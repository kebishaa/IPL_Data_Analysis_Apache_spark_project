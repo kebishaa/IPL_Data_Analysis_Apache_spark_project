{
 "cells": [
  {
   "cell_type": "code",
   "execution_count": 0,
   "metadata": {
    "application/vnd.databricks.v1+cell": {
     "cellMetadata": {
      "byteLimit": 2048000,
      "rowLimit": 10000
     },
     "inputWidgets": {},
     "nuid": "b5542697-4d94-439c-b5c0-68575eb8be22",
     "showTitle": false,
     "title": ""
    }
   },
   "outputs": [
    {
     "output_type": "display_data",
     "data": {
      "text/html": [
       "\n",
       "            <div>\n",
       "                <p><b>SparkSession - hive</b></p>\n",
       "                \n",
       "        <div>\n",
       "            <p><b>SparkContext</b></p>\n",
       "\n",
       "            <p><a href=\"/?o=1063034931242150#setting/sparkui/0730-142829-5o5w7d5p/driver-7413482963551463631\">Spark UI</a></p>\n",
       "\n",
       "            <dl>\n",
       "              <dt>Version</dt>\n",
       "                <dd><code>v3.3.2</code></dd>\n",
       "              <dt>Master</dt>\n",
       "                <dd><code>local[8]</code></dd>\n",
       "              <dt>AppName</dt>\n",
       "                <dd><code>Databricks Shell</code></dd>\n",
       "            </dl>\n",
       "        </div>\n",
       "        \n",
       "            </div>\n",
       "        "
      ]
     },
     "metadata": {
      "application/vnd.databricks.v1+output": {
       "addedWidgets": {},
       "arguments": {},
       "data": "\n            <div>\n                <p><b>SparkSession - hive</b></p>\n                \n        <div>\n            <p><b>SparkContext</b></p>\n\n            <p><a href=\"/?o=1063034931242150#setting/sparkui/0730-142829-5o5w7d5p/driver-7413482963551463631\">Spark UI</a></p>\n\n            <dl>\n              <dt>Version</dt>\n                <dd><code>v3.3.2</code></dd>\n              <dt>Master</dt>\n                <dd><code>local[8]</code></dd>\n              <dt>AppName</dt>\n                <dd><code>Databricks Shell</code></dd>\n            </dl>\n        </div>\n        \n            </div>\n        ",
       "datasetInfos": [],
       "metadata": {},
       "removedWidgets": [],
       "textData": null,
       "type": "htmlSandbox"
      }
     },
     "output_type": "display_data"
    }
   ],
   "source": [
    "spark"
   ]
  },
  {
   "cell_type": "code",
   "execution_count": 0,
   "metadata": {
    "application/vnd.databricks.v1+cell": {
     "cellMetadata": {
      "byteLimit": 2048000,
      "rowLimit": 10000
     },
     "inputWidgets": {},
     "nuid": "288a1742-d4a9-4291-84b9-33aae6153b39",
     "showTitle": false,
     "title": ""
    }
   },
   "outputs": [],
   "source": [
    "from pyspark.sql.types import StructField, StructType, IntegerType, StringType, BooleanType, DateType, DecimalType\n",
    "from pyspark.sql.functions import col, when, sum, avg, row_number \n",
    "from pyspark.sql.window import Window\n",
    "     "
   ]
  },
  {
   "cell_type": "code",
   "execution_count": 0,
   "metadata": {
    "application/vnd.databricks.v1+cell": {
     "cellMetadata": {
      "byteLimit": 2048000,
      "rowLimit": 10000
     },
     "inputWidgets": {},
     "nuid": "f4b514a6-d8c1-48ca-aa4d-705123340341",
     "showTitle": false,
     "title": ""
    }
   },
   "outputs": [],
   "source": [
    "from pyspark.sql import SparkSession \n",
    "\n",
    "#create session\n",
    "spark = SparkSession.builder.appName(\"IPL Data Analysis\").getOrCreate()"
   ]
  },
  {
   "cell_type": "code",
   "execution_count": 0,
   "metadata": {
    "application/vnd.databricks.v1+cell": {
     "cellMetadata": {
      "byteLimit": 2048000,
      "rowLimit": 10000
     },
     "inputWidgets": {},
     "nuid": "603731ea-2a13-4ef4-9f15-db6e11a0ebf5",
     "showTitle": false,
     "title": ""
    }
   },
   "outputs": [
    {
     "output_type": "display_data",
     "data": {
      "text/html": [
       "\n",
       "            <div>\n",
       "                <p><b>SparkSession - hive</b></p>\n",
       "                \n",
       "        <div>\n",
       "            <p><b>SparkContext</b></p>\n",
       "\n",
       "            <p><a href=\"/?o=1063034931242150#setting/sparkui/0730-142829-5o5w7d5p/driver-7413482963551463631\">Spark UI</a></p>\n",
       "\n",
       "            <dl>\n",
       "              <dt>Version</dt>\n",
       "                <dd><code>v3.3.2</code></dd>\n",
       "              <dt>Master</dt>\n",
       "                <dd><code>local[8]</code></dd>\n",
       "              <dt>AppName</dt>\n",
       "                <dd><code>Databricks Shell</code></dd>\n",
       "            </dl>\n",
       "        </div>\n",
       "        \n",
       "            </div>\n",
       "        "
      ]
     },
     "metadata": {
      "application/vnd.databricks.v1+output": {
       "addedWidgets": {},
       "arguments": {},
       "data": "\n            <div>\n                <p><b>SparkSession - hive</b></p>\n                \n        <div>\n            <p><b>SparkContext</b></p>\n\n            <p><a href=\"/?o=1063034931242150#setting/sparkui/0730-142829-5o5w7d5p/driver-7413482963551463631\">Spark UI</a></p>\n\n            <dl>\n              <dt>Version</dt>\n                <dd><code>v3.3.2</code></dd>\n              <dt>Master</dt>\n                <dd><code>local[8]</code></dd>\n              <dt>AppName</dt>\n                <dd><code>Databricks Shell</code></dd>\n            </dl>\n        </div>\n        \n            </div>\n        ",
       "datasetInfos": [],
       "metadata": {},
       "removedWidgets": [],
       "textData": null,
       "type": "htmlSandbox"
      }
     },
     "output_type": "display_data"
    }
   ],
   "source": [
    "spark"
   ]
  },
  {
   "cell_type": "code",
   "execution_count": 0,
   "metadata": {
    "application/vnd.databricks.v1+cell": {
     "cellMetadata": {
      "byteLimit": 2048000,
      "rowLimit": 10000
     },
     "inputWidgets": {},
     "nuid": "2f66df5a-4e61-4aa8-b4e2-974167081230",
     "showTitle": false,
     "title": ""
    }
   },
   "outputs": [],
   "source": [
    "from pyspark.sql.types import StructType, StructField, IntegerType, StringType, DoubleType\n",
    "\n",
    "# Define the schema\n",
    "ball_by_ball_schema = StructType([\n",
    "    StructField(\"match_id\", IntegerType(), True),\n",
    "    StructField(\"over_id\", IntegerType(), True),\n",
    "    StructField(\"ball_id\", IntegerType(), True),\n",
    "    StructField(\"innings_no\", IntegerType(), True),\n",
    "    StructField(\"team_batting\", StringType(), True),\n",
    "    StructField(\"team_bowling\", StringType(), True),\n",
    "    StructField(\"striker_batting_position\", IntegerType(), True),\n",
    "    StructField(\"extra_type\", StringType(), True),\n",
    "    StructField(\"runs_scored\", IntegerType(), True),\n",
    "    StructField(\"extra_runs\", IntegerType(), True),\n",
    "    StructField(\"wides\", IntegerType(), True),\n",
    "    StructField(\"legbyes\", IntegerType(), True),\n",
    "    StructField(\"byes\", IntegerType(), True),\n",
    "    StructField(\"noballs\", IntegerType(), True),\n",
    "    StructField(\"penalty\", IntegerType(), True),\n",
    "    StructField(\"bowler_extras\", IntegerType(), True),\n",
    "    StructField(\"out_type\", StringType(), True),\n",
    "    StructField(\"caught\", BooleanType(), True),\n",
    "    StructField(\"bowled\", BooleanType(), True),\n",
    "    StructField(\"run_out\", BooleanType(), True),\n",
    "    StructField(\"lbw\", BooleanType(), True),\n",
    "    StructField(\"retired_hurt\", BooleanType(), True),\n",
    "    StructField(\"stumped\", BooleanType(), True),\n",
    "    StructField(\"caught_and_bowled\", BooleanType(), True),\n",
    "    StructField(\"hit_wicket\", BooleanType(), True),\n",
    "    StructField(\"obstructingfeild\", BooleanType(), True),\n",
    "    StructField(\"bowler_wicket\", BooleanType(), True),\n",
    "    StructField(\"match_date\", DateType(), True),\n",
    "    StructField(\"season\", IntegerType(), True),\n",
    "    StructField(\"striker\", IntegerType(), True),\n",
    "    StructField(\"non_striker\", IntegerType(), True),\n",
    "    StructField(\"bowler\", IntegerType(), True),\n",
    "    StructField(\"player_out\", IntegerType(), True),\n",
    "    StructField(\"fielders\", IntegerType(), True),\n",
    "    StructField(\"striker_match_sk\", IntegerType(), True),\n",
    "    StructField(\"strikersk\", IntegerType(), True),\n",
    "    StructField(\"nonstriker_match_sk\", IntegerType(), True),\n",
    "    StructField(\"nonstriker_sk\", IntegerType(), True),\n",
    "    StructField(\"fielder_match_sk\", IntegerType(), True),\n",
    "    StructField(\"fielder_sk\", IntegerType(), True),\n",
    "    StructField(\"bowler_match_sk\", IntegerType(), True),\n",
    "    StructField(\"bowler_sk\", IntegerType(), True),\n",
    "    StructField(\"playerout_match_sk\", IntegerType(), True),\n",
    "    StructField(\"battingteam_sk\", IntegerType(), True),\n",
    "    StructField(\"bowlingteam_sk\", IntegerType(), True),\n",
    "    StructField(\"keeper_catch\", BooleanType(), True),\n",
    "    StructField(\"player_out_sk\", IntegerType(), True),\n",
    "    StructField(\"matchdatesk\", DateType(), True)\n",
    "])\n",
    "     \n"
   ]
  },
  {
   "cell_type": "code",
   "execution_count": 0,
   "metadata": {
    "application/vnd.databricks.v1+cell": {
     "cellMetadata": {
      "byteLimit": 2048000,
      "rowLimit": 10000
     },
     "inputWidgets": {},
     "nuid": "a36ac0e7-3840-4bef-951d-76127480c5fe",
     "showTitle": false,
     "title": ""
    }
   },
   "outputs": [],
   "source": [
    "ball_by_ball_df = spark.read.schema(ball_by_ball_schema).format(\"csv\").option(\"header\",\"true\").option(\"inferSchema\", \"true\").load(\"s3://ipl-data-analysis-project/Ball_By_Ball.csv\")\n",
    "     "
   ]
  },
  {
   "cell_type": "code",
   "execution_count": 0,
   "metadata": {
    "application/vnd.databricks.v1+cell": {
     "cellMetadata": {
      "byteLimit": 2048000,
      "rowLimit": 10000
     },
     "inputWidgets": {},
     "nuid": "5c4c3b9c-cb9c-4682-a408-fd4061d29c2c",
     "showTitle": false,
     "title": ""
    }
   },
   "outputs": [],
   "source": [
    "match_schema = StructType({\n",
    "    StructField(\"match_sk\", IntegerType(), True),\n",
    "    StructField(\"match_id\", IntegerType(), True),\n",
    "    StructField(\"team1\", StringType(), True),\n",
    "    StructField(\"team2\", StringType(), True),\n",
    "    StructField(\"match_date\", DateType(), True),\n",
    "    StructField(\"season_year\", IntegerType(), True),\n",
    "    StructField(\"venue_name\", StringType(), True),\n",
    "    StructField(\"city_name\", StringType(), True),\n",
    "    StructField(\"country_name\", StringType(), True),\n",
    "    StructField(\"toss_winner\", StringType(), True),\n",
    "    StructField(\"match_winner\", StringType(), True),\n",
    "    StructField(\"toss_name\", StringType(), True),\n",
    "    StructField(\"win_type\", StringType(), True),\n",
    "    StructField(\"outcome_type\", StringType(), True),\n",
    "    StructField(\"manofmach\", StringType(), True),\n",
    "    StructField(\"win_margin\", IntegerType(), True),\n",
    "    StructField(\"country_id\", IntegerType(), True)\n",
    "})"
   ]
  },
  {
   "cell_type": "code",
   "execution_count": 0,
   "metadata": {
    "application/vnd.databricks.v1+cell": {
     "cellMetadata": {
      "byteLimit": 2048000,
      "rowLimit": 10000
     },
     "inputWidgets": {},
     "nuid": "1ad5ca36-14fc-42ff-a1be-9acc84db8e29",
     "showTitle": false,
     "title": ""
    }
   },
   "outputs": [],
   "source": [
    "match_df = spark.read.schema(match_schema).format(\"csv\").option(\"header\",\"true\").load(\"s3://ipl-data-analysis-project/Match.csv\")"
   ]
  },
  {
   "cell_type": "code",
   "execution_count": 0,
   "metadata": {
    "application/vnd.databricks.v1+cell": {
     "cellMetadata": {
      "byteLimit": 2048000,
      "rowLimit": 10000
     },
     "inputWidgets": {},
     "nuid": "85d61d72-45bc-40b2-a370-7f552b8ba186",
     "showTitle": false,
     "title": ""
    }
   },
   "outputs": [],
   "source": [
    "player_schema = StructType([\n",
    "    StructField(\"player_sk\", IntegerType(), True),\n",
    "    StructField(\"player_id\", IntegerType(), True),\n",
    "    StructField(\"player_name\", StringType(), True),\n",
    "    StructField(\"dob\", DateType(), True),\n",
    "    StructField(\"batting_hand\", StringType(), True),\n",
    "    StructField(\"bowling_skill\", StringType(), True),\n",
    "    StructField(\"country_name\", StringType(), True)\n",
    "])"
   ]
  },
  {
   "cell_type": "code",
   "execution_count": 0,
   "metadata": {
    "application/vnd.databricks.v1+cell": {
     "cellMetadata": {
      "byteLimit": 2048000,
      "rowLimit": 10000
     },
     "inputWidgets": {},
     "nuid": "df5c5378-eb58-467b-b2bb-f859b43021e7",
     "showTitle": false,
     "title": ""
    }
   },
   "outputs": [],
   "source": [
    "player_df = spark.read.schema(player_schema).format(\"csv\").option(\"header\",\"true\").load(\"s3://ipl-data-analysis-project/Player.csv\")\n"
   ]
  },
  {
   "cell_type": "code",
   "execution_count": 0,
   "metadata": {
    "application/vnd.databricks.v1+cell": {
     "cellMetadata": {
      "byteLimit": 2048000,
      "rowLimit": 10000
     },
     "inputWidgets": {},
     "nuid": "cf5106eb-bb0b-4e0a-a629-95d9981214bc",
     "showTitle": false,
     "title": ""
    }
   },
   "outputs": [],
   "source": [
    "player_match_schema = StructType([\n",
    "    StructField(\"player_match_sk\", IntegerType(), True),\n",
    "    StructField(\"playermatch_key\", DecimalType(), True),\n",
    "    StructField(\"match_id\", IntegerType(), True),\n",
    "    StructField(\"player_id\", IntegerType(), True),\n",
    "    StructField(\"player_name\", StringType(), True),\n",
    "    StructField(\"dob\", DateType(), True),\n",
    "    StructField(\"batting_hand\", StringType(), True),\n",
    "    StructField(\"bowling_skill\", StringType(), True),\n",
    "    StructField(\"country_name\", StringType(), True),\n",
    "    StructField(\"role_desc\", StringType(), True),\n",
    "    StructField(\"player_team\", StringType(), True),\n",
    "    StructField(\"opposit_team\", StringType(), True),\n",
    "    StructField(\"season_year\", IntegerType(), True),\n",
    "    StructField(\"is_manofthematch\", BooleanType(), True),\n",
    "    StructField(\"age_as_on_match\", IntegerType(), True),\n",
    "    StructField(\"isplayers_team_won\", BooleanType(), True),\n",
    "    StructField(\"batting_status\", StringType(), True),\n",
    "    StructField(\"bowling_status\", StringType(), True),\n",
    "    StructField(\"player_captain\", StringType(), True),\n",
    "    StructField(\"opposit_captain\", StringType(), True),\n",
    "    StructField(\"player_keeper\", StringType(), True),\n",
    "    StructField(\"opposit_keeper\", StringType(), True)\n",
    "])"
   ]
  },
  {
   "cell_type": "code",
   "execution_count": 0,
   "metadata": {
    "application/vnd.databricks.v1+cell": {
     "cellMetadata": {
      "byteLimit": 2048000,
      "rowLimit": 10000
     },
     "inputWidgets": {},
     "nuid": "f54c75ab-34bb-49e7-8f25-c90a8718010a",
     "showTitle": false,
     "title": ""
    }
   },
   "outputs": [],
   "source": [
    "player_match_df = spark.read.schema(player_match_schema).format(\"csv\").option(\"header\",\"true\").load(\"s3://ipl-data-analysis-project/Player_match.csv\")\n",
    "\n",
    "     \n"
   ]
  },
  {
   "cell_type": "code",
   "execution_count": 0,
   "metadata": {
    "application/vnd.databricks.v1+cell": {
     "cellMetadata": {
      "byteLimit": 2048000,
      "rowLimit": 10000
     },
     "inputWidgets": {},
     "nuid": "eedb417a-8637-44c4-9e5e-43857f9f9603",
     "showTitle": false,
     "title": ""
    }
   },
   "outputs": [],
   "source": [
    "team_schema = StructType([\n",
    "    StructField(\"team_sk\", IntegerType(), True),\n",
    "    StructField(\"team_id\", IntegerType(), True),\n",
    "    StructField(\"team_name\", StringType(), True)\n",
    "])\n"
   ]
  },
  {
   "cell_type": "code",
   "execution_count": 0,
   "metadata": {
    "application/vnd.databricks.v1+cell": {
     "cellMetadata": {
      "byteLimit": 2048000,
      "rowLimit": 10000
     },
     "inputWidgets": {},
     "nuid": "ae2c0106-96b7-48c4-9b40-38af75f03978",
     "showTitle": false,
     "title": ""
    }
   },
   "outputs": [],
   "source": [
    "team_df = spark.read.schema(team_schema).format(\"csv\").option(\"header\",\"true\").load(\"s3://ipl-data-analysis-project/Team.csv\")\n",
    "     \n"
   ]
  },
  {
   "cell_type": "code",
   "execution_count": 0,
   "metadata": {
    "application/vnd.databricks.v1+cell": {
     "cellMetadata": {
      "byteLimit": 2048000,
      "rowLimit": 10000
     },
     "inputWidgets": {},
     "nuid": "ab869a57-6bb0-47cd-9f02-c2db47a7e3ac",
     "showTitle": false,
     "title": ""
    }
   },
   "outputs": [],
   "source": [
    "# Filter to include only valid deliveries (excluding extras like wides and no balls for specific analyses)\n",
    "ball_by_ball_df = ball_by_ball_df.filter((col(\"wides\") == 0) & (col(\"noballs\")==0))\n",
    "\n",
    "# Aggregation: Calculate the total and average runs scored in each match and inning\n",
    "total_and_avg_runs = ball_by_ball_df.groupBy(\"match_id\", \"innings_no\").agg(\n",
    "    sum(\"runs_scored\").alias(\"total_runs\"),\n",
    "    avg(\"runs_scored\").alias(\"average_runs\")\n",
    ")\n",
    "     "
   ]
  },
  {
   "cell_type": "code",
   "execution_count": 0,
   "metadata": {
    "application/vnd.databricks.v1+cell": {
     "cellMetadata": {
      "byteLimit": 2048000,
      "rowLimit": 10000
     },
     "inputWidgets": {},
     "nuid": "d898d8f5-cace-420d-9db9-87c16fc8c46f",
     "showTitle": false,
     "title": ""
    }
   },
   "outputs": [],
   "source": [
    "# Window Function: Calculate running total of runs in each match for each over\n",
    "windowSpec = Window.partitionBy(\"match_id\",\"innings_no\").orderBy(\"over_id\")\n",
    "\n",
    "ball_by_ball_df = ball_by_ball_df.withColumn(\n",
    "    \"running_total_runs\",\n",
    "    sum(\"runs_scored\").over(windowSpec)\n",
    ")\n"
   ]
  },
  {
   "cell_type": "code",
   "execution_count": 0,
   "metadata": {
    "application/vnd.databricks.v1+cell": {
     "cellMetadata": {
      "byteLimit": 2048000,
      "rowLimit": 10000
     },
     "inputWidgets": {},
     "nuid": "b8fdec62-ba37-4d6e-ba0c-2c222af576fc",
     "showTitle": false,
     "title": ""
    }
   },
   "outputs": [],
   "source": [
    "\n",
    "# Conditional Column: Flag for high impact balls (either a wicket or more than 6 runs including extras)\n",
    "ball_by_ball_df = ball_by_ball_df.withColumn(\n",
    "    \"high_impact\",\n",
    "    when((col(\"runs_scored\") + col(\"extra_runs\") > 6) | (col(\"bowler_wicket\") == True), True).otherwise(False)\n",
    ")"
   ]
  },
  {
   "cell_type": "code",
   "execution_count": 0,
   "metadata": {
    "application/vnd.databricks.v1+cell": {
     "cellMetadata": {
      "byteLimit": 2048000,
      "rowLimit": 10000
     },
     "inputWidgets": {},
     "nuid": "6ee8c912-d4c5-4d7a-83c1-6b35ed7eaec7",
     "showTitle": false,
     "title": ""
    }
   },
   "outputs": [
    {
     "output_type": "stream",
     "name": "stdout",
     "output_type": "stream",
     "text": [
      "+--------+-------+-------+----------+------------+------------+------------------------+----------+-----------+----------+-----+-------+----+-------+-------+-------------+--------------+------+------+-------+----+------------+-------+-----------------+----------+----------------+-------------+----------+------+-------+-----------+------+----------+--------+----------------+---------+-------------------+-------------+----------------+----------+---------------+---------+------------------+--------------+--------------+------------+-------------+-----------+------------------+-----------+\n|match_id|over_id|ball_id|innings_no|team_batting|team_bowling|striker_batting_position|extra_type|runs_scored|extra_runs|wides|legbyes|byes|noballs|penalty|bowler_extras|      out_type|caught|bowled|run_out| lbw|retired_hurt|stumped|caught_and_bowled|hit_wicket|obstructingfeild|bowler_wicket|match_date|season|striker|non_striker|bowler|player_out|fielders|striker_match_sk|strikersk|nonstriker_match_sk|nonstriker_sk|fielder_match_sk|fielder_sk|bowler_match_sk|bowler_sk|playerout_match_sk|battingteam_sk|bowlingteam_sk|keeper_catch|player_out_sk|matchdatesk|running_total_runs|high_impact|\n+--------+-------+-------+----------+------------+------------+------------------------+----------+-----------+----------+-----+-------+----+-------+-------+-------------+--------------+------+------+-------+----+------------+-------+-----------------+----------+----------------+-------------+----------+------+-------+-----------+------+----------+--------+----------------+---------+-------------------+-------------+----------------+----------+---------------+---------+------------------+--------------+--------------+------------+-------------+-----------+------------------+-----------+\n|  335987|      1|      1|         1|           1|           2|                       1|   legbyes|          0|         1|    0|      1|   0|      0|      0|            0|Not Applicable|  null|  null|   null|null|        null|   null|             null|      null|            null|         null|      null|  2008|      1|          2|    14|      null|    null|           12705|        0|              12706|            1|              -1|        -1|          12702|       13|                -1|             0|             1|        null|            0|       null|                 0|      false|\n|  335987|      1|      2|         1|           1|           2|                       2| No Extras|          0|         0|    0|      0|   0|      0|      0|            0|Not Applicable|  null|  null|   null|null|        null|   null|             null|      null|            null|         null|      null|  2008|      2|          1|    14|      null|    null|           12706|        1|              12705|            0|              -1|        -1|          12702|       13|                -1|             0|             1|        null|            0|       null|                 0|      false|\n|  335987|      1|      4|         1|           1|           2|                       2| No Extras|          0|         0|    0|      0|   0|      0|      0|            0|Not Applicable|  null|  null|   null|null|        null|   null|             null|      null|            null|         null|      null|  2008|      2|          1|    14|      null|    null|           12706|        1|              12705|            0|              -1|        -1|          12702|       13|                -1|             0|             1|        null|            0|       null|                 0|      false|\n|  335987|      1|      5|         1|           1|           2|                       2| No Extras|          0|         0|    0|      0|   0|      0|      0|            0|Not Applicable|  null|  null|   null|null|        null|   null|             null|      null|            null|         null|      null|  2008|      2|          1|    14|      null|    null|           12706|        1|              12705|            0|              -1|        -1|          12702|       13|                -1|             0|             1|        null|            0|       null|                 0|      false|\n|  335987|      1|      6|         1|           1|           2|                       2| No Extras|          0|         0|    0|      0|   0|      0|      0|            0|Not Applicable|  null|  null|   null|null|        null|   null|             null|      null|            null|         null|      null|  2008|      2|          1|    14|      null|    null|           12706|        1|              12705|            0|              -1|        -1|          12702|       13|                -1|             0|             1|        null|            0|       null|                 0|      false|\n+--------+-------+-------+----------+------------+------------+------------------------+----------+-----------+----------+-----+-------+----+-------+-------+-------------+--------------+------+------+-------+----+------------+-------+-----------------+----------+----------------+-------------+----------+------+-------+-----------+------+----------+--------+----------------+---------+-------------------+-------------+----------------+----------+---------------+---------+------------------+--------------+--------------+------------+-------------+-----------+------------------+-----------+\nonly showing top 5 rows\n\n"
     ]
    }
   ],
   "source": [
    "ball_by_ball_df.show(5)"
   ]
  },
  {
   "cell_type": "code",
   "execution_count": 0,
   "metadata": {
    "application/vnd.databricks.v1+cell": {
     "cellMetadata": {
      "byteLimit": 2048000,
      "rowLimit": 10000
     },
     "inputWidgets": {},
     "nuid": "9f5a978e-56b2-49bf-972f-60c282448409",
     "showTitle": false,
     "title": ""
    }
   },
   "outputs": [
    {
     "output_type": "stream",
     "name": "stdout",
     "output_type": "stream",
     "text": [
      "+-----------+-----------+--------------------+--------------------+----------+------------+--------------------+----------+------------+--------------------+--------+------------+--------+----------+-----------+-----+---------+----+-----+----+-------------------+-----------------+\n|season_year|toss_winner|          venue_name|           manofmach|country_id|outcome_type|               team2|win_margin|match_winner|           toss_name|match_sk|country_name|match_id|match_date|   win_type|team1|city_name|year|month| day|win_margin_category|toss_match_winner|\n+-----------+-----------+--------------------+--------------------+----------+------------+--------------------+----------+------------+--------------------+--------+------------+--------+----------+-----------+-----+---------+----+-----+----+-------------------+-----------------+\n|          0|     335987|Royal Challengers...|Kolkata Knight Ri...|      null|        2008|M Chinnaswamy Sta...|      null|       India|Royal Challengers...|    null|       field|    null|      null|BB McCullum|  140|        1|null| null|null|                Low|               No|\n|          1|     335988|     Kings XI Punjab| Chennai Super Kings|      null|        2008|Punjab Cricket As...|      null|       India| Chennai Super Kings|    null|         bat|    null|      null| MEK Hussey|   33|        1|null| null|null|                Low|               No|\n+-----------+-----------+--------------------+--------------------+----------+------------+--------------------+----------+------------+--------------------+--------+------------+--------+----------+-----------+-----+---------+----+-----+----+-------------------+-----------------+\nonly showing top 2 rows\n\n"
     ]
    }
   ],
   "source": [
    "from pyspark.sql.functions import year, month, dayofmonth, when\n",
    "\n",
    "# Extracting year, month, and day from the match date for more detailed time-based analysis\n",
    "match_df = match_df.withColumn(\"year\", year(\"match_date\"))\n",
    "match_df = match_df.withColumn(\"month\", month(\"match_date\"))\n",
    "match_df = match_df.withColumn(\"day\", dayofmonth(\"match_date\"))\n",
    "\n",
    "# High margin win: categorizing win margins into 'high', 'medium', and 'low'\n",
    "match_df = match_df.withColumn(\n",
    "    \"win_margin_category\",\n",
    "    when(col(\"win_margin\") >= 100, \"High\")\n",
    "    .when((col(\"win_margin\") >= 50) & (col(\"win_margin\") < 100), \"Medium\")\n",
    "    .otherwise(\"Low\")\n",
    ")\n",
    "\n",
    "# Analyze the impact of the toss: who wins the toss and the match\n",
    "match_df = match_df.withColumn(\n",
    "    \"toss_match_winner\",\n",
    "    when(col(\"toss_winner\") == col(\"match_winner\"), \"Yes\").otherwise(\"No\")\n",
    ")\n",
    "\n",
    "# Show the enhanced match DataFrame\n",
    "match_df.show(2)\n"
   ]
  },
  {
   "cell_type": "code",
   "execution_count": 0,
   "metadata": {
    "application/vnd.databricks.v1+cell": {
     "cellMetadata": {
      "byteLimit": 2048000,
      "rowLimit": 10000
     },
     "inputWidgets": {},
     "nuid": "11ef98d9-7821-4b09-a894-3bb487bcaa35",
     "showTitle": false,
     "title": ""
    }
   },
   "outputs": [
    {
     "output_type": "stream",
     "name": "stdout",
     "output_type": "stream",
     "text": [
      "+---------+---------+-----------+----+--------------+----------------+------------+-------------+\n|player_sk|player_id|player_name| dob|  batting_hand|   bowling_skill|country_name|batting_style|\n+---------+---------+-----------+----+--------------+----------------+------------+-------------+\n|        0|        1| sc ganguly|null| Left-hand bat|Right-arm medium|       India| Right-Handed|\n|        1|        2|bb mccullum|null|Right-hand bat|Right-arm medium| New Zealand| Right-Handed|\n+---------+---------+-----------+----+--------------+----------------+------------+-------------+\nonly showing top 2 rows\n\n"
     ]
    }
   ],
   "source": [
    "from pyspark.sql.functions import lower, regexp_replace\n",
    "\n",
    "# Normalize and clean player names\n",
    "player_df = player_df.withColumn(\"player_name\", lower(regexp_replace(\"player_name\", \"[^a-zA-Z0-9 ]\", \"\")))\n",
    "\n",
    "# Handle missing values in 'batting_hand' and 'bowling_skill' with a default 'unknown'\n",
    "player_df = player_df.na.fill({\"batting_hand\": \"unknown\", \"bowling_skill\": \"unknown\"})\n",
    "\n",
    "# Categorizing players based on batting hand\n",
    "player_df = player_df.withColumn(\n",
    "    \"batting_style\",\n",
    "    when(col(\"batting_hand\").contains(\"left\"), \"Left-Handed\").otherwise(\"Right-Handed\")\n",
    ")\n",
    "\n",
    "# Show the modified player DataFrame\n",
    "player_df.show(2)"
   ]
  },
  {
   "cell_type": "code",
   "execution_count": 0,
   "metadata": {
    "application/vnd.databricks.v1+cell": {
     "cellMetadata": {
      "byteLimit": 2048000,
      "rowLimit": 10000
     },
     "inputWidgets": {},
     "nuid": "7a1e5784-1db0-47ee-92c4-cb2b640f2958",
     "showTitle": false,
     "title": ""
    }
   },
   "outputs": [
    {
     "output_type": "stream",
     "name": "stdout",
     "output_type": "stream",
     "text": [
      "+---------------+---------------+--------+---------+---------------+----+--------------+--------------------+------------+---------+--------------------+--------------------+-----------+----------------+---------------+------------------+--------------+--------------+--------------+---------------+-------------+--------------+--------------+-----------------+\n|player_match_sk|playermatch_key|match_id|player_id|    player_name| dob|  batting_hand|       bowling_skill|country_name|role_desc|         player_team|        opposit_team|season_year|is_manofthematch|age_as_on_match|isplayers_team_won|batting_status|bowling_status|player_captain|opposit_captain|player_keeper|opposit_keeper|veteran_status|years_since_debut|\n+---------------+---------------+--------+---------+---------------+----+--------------+--------------------+------------+---------+--------------------+--------------------+-----------+----------------+---------------+------------------+--------------+--------------+--------------+---------------+-------------+--------------+--------------+-----------------+\n|             -1|             -1|      -1|       -1|            N/A|null|          null|                null|        null|     null|                null|                null|       null|            null|           null|              null|          null|          null|          null|           null|         null|          null|   Non-Veteran|             null|\n|          12694|           null|  335987|        6|       R Dravid|null|Right-hand bat|  Right-arm offbreak|       India|  Captain|Royal Challengers...|Kolkata Knight Ri...|       2008|            null|             35|              null|          null|          null|      R Dravid|     SC Ganguly|   MV Boucher|       WP Saha|       Veteran|               16|\n|          12695|           null|  335987|        7|       W Jaffer|null|Right-hand bat|  Right-arm offbreak|       India|   Player|Royal Challengers...|Kolkata Knight Ri...|       2008|            null|             30|              null|          null|          null|      R Dravid|     SC Ganguly|   MV Boucher|       WP Saha|   Non-Veteran|               16|\n|          12696|           null|  335987|        8|        V Kohli|null|Right-hand bat|    Right-arm medium|       India|   Player|Royal Challengers...|Kolkata Knight Ri...|       2008|            null|             20|              null|          null|          null|      R Dravid|     SC Ganguly|   MV Boucher|       WP Saha|   Non-Veteran|               16|\n|          12697|           null|  335987|        9|      JH Kallis|null|Right-hand bat|Right-arm fast-me...|South Africa|   Player|Royal Challengers...|Kolkata Knight Ri...|       2008|            null|             33|              null|          null|          null|      R Dravid|     SC Ganguly|   MV Boucher|       WP Saha|   Non-Veteran|               16|\n|          12698|           null|  335987|       10|       CL White|null|Right-hand bat|     Legbreak googly|   Australia|   Player|Royal Challengers...|Kolkata Knight Ri...|       2008|            null|             25|              null|          null|          null|      R Dravid|     SC Ganguly|   MV Boucher|       WP Saha|   Non-Veteran|               16|\n|          12699|           null|  335987|       11|     MV Boucher|null|Right-hand bat|    Right-arm medium|South Africa|   Keeper|Royal Challengers...|Kolkata Knight Ri...|       2008|            null|             32|              null|          null|          null|      R Dravid|     SC Ganguly|   MV Boucher|       WP Saha|   Non-Veteran|               16|\n|          12700|           null|  335987|       12|        B Akhil|null|Right-hand bat|Right-arm medium-...|       India|   Player|Royal Challengers...|Kolkata Knight Ri...|       2008|            null|             31|              null|          null|          null|      R Dravid|     SC Ganguly|   MV Boucher|       WP Saha|   Non-Veteran|               16|\n|          12701|           null|  335987|       13|      AA Noffke|null|Right-hand bat|Right-arm fast-me...|   Australia|   Player|Royal Challengers...|Kolkata Knight Ri...|       2008|            null|             31|              null|          null|          null|      R Dravid|     SC Ganguly|   MV Boucher|       WP Saha|   Non-Veteran|               16|\n|          12702|           null|  335987|       14|        P Kumar|null|Right-hand bat|    Right-arm medium|       India|   Player|Royal Challengers...|Kolkata Knight Ri...|       2008|            null|             22|              null|          null|          null|      R Dravid|     SC Ganguly|   MV Boucher|       WP Saha|   Non-Veteran|               16|\n|          12703|           null|  335987|       15|         Z Khan|null|Right-hand bat|Left-arm fast-medium|       India|   Player|Royal Challengers...|Kolkata Knight Ri...|       2008|            null|             30|              null|          null|          null|      R Dravid|     SC Ganguly|   MV Boucher|       WP Saha|   Non-Veteran|               16|\n|          12704|           null|  335987|       16|       SB Joshi|null| Left-hand bat|Slow left-arm ort...|       India|   Player|Royal Challengers...|Kolkata Knight Ri...|       2008|            null|             38|              null|          null|          null|      R Dravid|     SC Ganguly|   MV Boucher|       WP Saha|       Veteran|               16|\n|          12705|           null|  335987|        1|     SC Ganguly|null| Left-hand bat|    Right-arm medium|       India|  Captain|Kolkata Knight Ri...|Royal Challengers...|       2008|            null|             36|              null|          null|          null|    SC Ganguly|       R Dravid|      WP Saha|    MV Boucher|       Veteran|               16|\n|          12706|           null|  335987|        2|    BB McCullum|null|Right-hand bat|    Right-arm medium| New Zealand|   Player|Kolkata Knight Ri...|Royal Challengers...|       2008|            null|             27|              null|          null|          null|    SC Ganguly|       R Dravid|      WP Saha|    MV Boucher|   Non-Veteran|               16|\n|          12707|           null|  335987|        3|     RT Ponting|null|Right-hand bat|    Right-arm medium|   Australia|   Player|Kolkata Knight Ri...|Royal Challengers...|       2008|            null|             34|              null|          null|          null|    SC Ganguly|       R Dravid|      WP Saha|    MV Boucher|   Non-Veteran|               16|\n|          12708|           null|  335987|        4|      DJ Hussey|null|Right-hand bat|  Right-arm offbreak|   Australia|   Player|Kolkata Knight Ri...|Royal Challengers...|       2008|            null|             31|              null|          null|          null|    SC Ganguly|       R Dravid|      WP Saha|    MV Boucher|   Non-Veteran|               16|\n|          12709|           null|  335987|        5|Mohammad Hafeez|null|Right-hand bat|  Right-arm offbreak|    Pakistan|   Player|Kolkata Knight Ri...|Royal Challengers...|       2008|            null|             28|              null|          null|          null|    SC Ganguly|       R Dravid|      WP Saha|    MV Boucher|   Non-Veteran|               16|\n|          12710|           null|  335987|       62|        WP Saha|null|Right-hand bat|                 N/A|       India|   Keeper|Kolkata Knight Ri...|Royal Challengers...|       2008|            null|             24|              null|          null|          null|    SC Ganguly|       R Dravid|      WP Saha|    MV Boucher|   Non-Veteran|               16|\n|          12711|           null|  335987|       63|      LR Shukla|null|Right-hand bat|    Right-arm medium|       India|   Player|Kolkata Knight Ri...|Royal Challengers...|       2008|            null|             27|              null|          null|          null|    SC Ganguly|       R Dravid|      WP Saha|    MV Boucher|   Non-Veteran|               16|\n|          12712|           null|  335987|       82|     AB Agarkar|null|Right-hand bat|      Right-arm fast|       India|   Player|Kolkata Knight Ri...|Royal Challengers...|       2008|            null|             31|              null|          null|          null|    SC Ganguly|       R Dravid|      WP Saha|    MV Boucher|   Non-Veteran|               16|\n+---------------+---------------+--------+---------+---------------+----+--------------+--------------------+------------+---------+--------------------+--------------------+-----------+----------------+---------------+------------------+--------------+--------------+--------------+---------------+-------------+--------------+--------------+-----------------+\nonly showing top 20 rows\n\n"
     ]
    }
   ],
   "source": [
    "from pyspark.sql.functions import col, when, current_date, expr\n",
    "\n",
    "# Add a 'veteran_status' column based on player age\n",
    "player_match_df = player_match_df.withColumn(\n",
    "    \"veteran_status\",\n",
    "    when(col(\"age_as_on_match\") >= 35, \"Veteran\").otherwise(\"Non-Veteran\")\n",
    ")\n",
    "\n",
    "# Dynamic column to calculate years since debut\n",
    "player_match_df = player_match_df.withColumn(\n",
    "    \"years_since_debut\",\n",
    "    (year(current_date()) - col(\"season_year\"))\n",
    ")\n",
    "\n",
    "# Show the enriched DataFrame\n",
    "player_match_df.show()"
   ]
  },
  {
   "cell_type": "code",
   "execution_count": 0,
   "metadata": {
    "application/vnd.databricks.v1+cell": {
     "cellMetadata": {
      "byteLimit": 2048000,
      "rowLimit": 10000
     },
     "inputWidgets": {},
     "nuid": "6d1ba38a-068d-42cd-b080-ed47ddff5643",
     "showTitle": false,
     "title": ""
    }
   },
   "outputs": [],
   "source": [
    "ball_by_ball_df.createOrReplaceTempView(\"ball_by_ball\")\n",
    "match_df.createOrReplaceTempView(\"match\")\n",
    "player_df.createOrReplaceTempView(\"player\")\n",
    "player_match_df.createOrReplaceTempView(\"player_match\")\n",
    "team_df.createOrReplaceTempView(\"team\")\n",
    "     "
   ]
  },
  {
   "cell_type": "code",
   "execution_count": 0,
   "metadata": {
    "application/vnd.databricks.v1+cell": {
     "cellMetadata": {
      "byteLimit": 2048000,
      "rowLimit": 10000
     },
     "inputWidgets": {},
     "nuid": "d22c10b6-6621-43cd-8703-11a863536059",
     "showTitle": false,
     "title": ""
    }
   },
   "outputs": [
    {
     "output_type": "stream",
     "name": "stdout",
     "output_type": "stream",
     "text": [
      "Out[24]: ['match_id',\n 'over_id',\n 'ball_id',\n 'innings_no',\n 'team_batting',\n 'team_bowling',\n 'striker_batting_position',\n 'extra_type',\n 'runs_scored',\n 'extra_runs',\n 'wides',\n 'legbyes',\n 'byes',\n 'noballs',\n 'penalty',\n 'bowler_extras',\n 'out_type',\n 'caught',\n 'bowled',\n 'run_out',\n 'lbw',\n 'retired_hurt',\n 'stumped',\n 'caught_and_bowled',\n 'hit_wicket',\n 'obstructingfeild',\n 'bowler_wicket',\n 'match_date',\n 'season',\n 'striker',\n 'non_striker',\n 'bowler',\n 'player_out',\n 'fielders',\n 'striker_match_sk',\n 'strikersk',\n 'nonstriker_match_sk',\n 'nonstriker_sk',\n 'fielder_match_sk',\n 'fielder_sk',\n 'bowler_match_sk',\n 'bowler_sk',\n 'playerout_match_sk',\n 'battingteam_sk',\n 'bowlingteam_sk',\n 'keeper_catch',\n 'player_out_sk',\n 'matchdatesk',\n 'running_total_runs',\n 'high_impact']"
     ]
    }
   ],
   "source": [
    "ball_by_ball_df.columns\n",
    "     "
   ]
  },
  {
   "cell_type": "code",
   "execution_count": 0,
   "metadata": {
    "application/vnd.databricks.v1+cell": {
     "cellMetadata": {
      "byteLimit": 2048000,
      "rowLimit": 10000
     },
     "inputWidgets": {},
     "nuid": "e1842a34-af28-4299-bb3b-4541994bd600",
     "showTitle": false,
     "title": ""
    }
   },
   "outputs": [],
   "source": [
    "top_scoring_batsmen_per_season = spark.sql(\"\"\"\n",
    "SELECT \n",
    "p.player_name,\n",
    "m.season_year,\n",
    "SUM(b.runs_scored) AS total_runs \n",
    "FROM ball_by_ball b\n",
    "JOIN match m ON b.match_id = m.match_id   \n",
    "JOIN player_match pm ON m.match_id = pm.match_id AND b.striker = pm.player_id     \n",
    "JOIN player p ON p.player_id = pm.player_id\n",
    "GROUP BY p.player_name, m.season_year\n",
    "ORDER BY m.season_year, total_runs DESC\n",
    "\"\"\")"
   ]
  },
  {
   "cell_type": "code",
   "execution_count": 0,
   "metadata": {
    "application/vnd.databricks.v1+cell": {
     "cellMetadata": {
      "byteLimit": 2048000,
      "rowLimit": 10000
     },
     "inputWidgets": {},
     "nuid": "0aed18bd-3baf-429a-818f-ce773942ae67",
     "showTitle": false,
     "title": ""
    }
   },
   "outputs": [
    {
     "output_type": "stream",
     "name": "stdout",
     "output_type": "stream",
     "text": [
      "+-----------+-----------+----------+\n|player_name|season_year|total_runs|\n+-----------+-----------+----------+\n+-----------+-----------+----------+\n\n"
     ]
    }
   ],
   "source": [
    "top_scoring_batsmen_per_season.show(30)\n",
    "     "
   ]
  },
  {
   "cell_type": "code",
   "execution_count": 0,
   "metadata": {
    "application/vnd.databricks.v1+cell": {
     "cellMetadata": {
      "byteLimit": 2048000,
      "rowLimit": 10000
     },
     "inputWidgets": {},
     "nuid": "32b32368-f1fc-438f-9d89-bf8fa5db47c0",
     "showTitle": false,
     "title": ""
    }
   },
   "outputs": [
    {
     "output_type": "stream",
     "name": "stdout",
     "output_type": "stream",
     "text": [
      "+---------------+------------------+-------------+\n|    player_name| avg_runs_per_ball|total_wickets|\n+---------------+------------------+-------------+\n|     sm harwood|0.3333333333333333|            0|\n|     ankit soni|               0.5|            0|\n|      gr napier|               0.5|            0|\n|       aj finch|               0.5|            0|\n|        a zampa|               0.5|            0|\n|     avesh khan|               0.5|            0|\n|       nb singh|0.5833333333333334|            0|\n|     ag murtaza|0.6538461538461539|            0|\n|      sb bangar|0.6666666666666666|            0|\n|     d du preez|0.6666666666666666|            0|\n|        s gopal|0.6666666666666666|            0|\n|     fh edwards|0.6923076923076923|            0|\n|       a kumble|0.7685185185185185|            0|\n|j syed mohammad|0.7777777777777778|            0|\n|   kp pietersen|0.7777777777777778|            0|\n|       umar gul|0.7777777777777778|            0|\n|  la carseldine|0.8333333333333334|            0|\n|    rj peterson|0.8333333333333334|            0|\n|      ss mundhe|0.8333333333333334|            0|\n|       tl suman|0.8333333333333334|            0|\n+---------------+------------------+-------------+\nonly showing top 20 rows\n\n"
     ]
    }
   ],
   "source": [
    "economical_bowlers_powerplay = spark.sql(\"\"\"\n",
    "SELECT \n",
    "p.player_name, \n",
    "AVG(b.runs_scored) AS avg_runs_per_ball, \n",
    "COUNT(b.bowler_wicket) AS total_wickets\n",
    "FROM ball_by_ball b\n",
    "JOIN player_match pm ON b.match_id = pm.match_id AND b.bowler = pm.player_id\n",
    "JOIN player p ON pm.player_id = p.player_id\n",
    "WHERE b.over_id <= 6\n",
    "GROUP BY p.player_name\n",
    "HAVING COUNT(*) >= 1\n",
    "ORDER BY avg_runs_per_ball, total_wickets DESC\n",
    "\"\"\")\n",
    "economical_bowlers_powerplay.show()\n"
   ]
  },
  {
   "cell_type": "code",
   "execution_count": 0,
   "metadata": {
    "application/vnd.databricks.v1+cell": {
     "cellMetadata": {
      "byteLimit": 2048000,
      "rowLimit": 10000
     },
     "inputWidgets": {},
     "nuid": "d63d5224-b9ed-4f25-ae1e-2849538a05a3",
     "showTitle": false,
     "title": ""
    }
   },
   "outputs": [
    {
     "output_type": "stream",
     "name": "stdout",
     "output_type": "stream",
     "text": [
      "+--------+-----------+--------------------+------------+-------------+\n|match_id|toss_winner|           toss_name|match_winner|match_outcome|\n+--------+-----------+--------------------+------------+-------------+\n|    null|     335987|Royal Challengers...|       India|         Lost|\n|    null|     335988| Chennai Super Kings|       India|         Lost|\n|    null|     335989|    Rajasthan Royals|       India|         Lost|\n|    null|     335990|      Mumbai Indians|       India|         Lost|\n|    null|     335991|     Deccan Chargers|       India|         Lost|\n|    null|     335992|     Kings XI Punjab|       India|         Lost|\n|    null|     335993|     Deccan Chargers|       India|         Lost|\n|    null|     335994|      Mumbai Indians|       India|         Lost|\n|    null|     335995|    Rajasthan Royals|       India|         Lost|\n|    null|     335996|      Mumbai Indians|       India|         Lost|\n|    null|     335997|    Rajasthan Royals|       India|         Lost|\n|    null|     335998|Kolkata Knight Ri...|       India|         Lost|\n|    null|     335999|     Deccan Chargers|       India|         Lost|\n|    null|     336000|    Delhi Daredevils|       India|         Lost|\n|    null|     336001| Chennai Super Kings|       India|         Lost|\n|    null|     336002|Kolkata Knight Ri...|       India|         Lost|\n|    null|     336003|Royal Challengers...|       India|         Lost|\n|    null|     336004|     Kings XI Punjab|       India|         Lost|\n|    null|     336005|    Rajasthan Royals|       India|         Lost|\n|    null|     336006| Chennai Super Kings|       India|         Lost|\n+--------+-----------+--------------------+------------+-------------+\nonly showing top 20 rows\n\n"
     ]
    }
   ],
   "source": [
    "toss_impact_individual_matches = spark.sql(\"\"\"\n",
    "SELECT m.match_id, m.toss_winner, m.toss_name, m.match_winner,\n",
    "       CASE WHEN m.toss_winner = m.match_winner THEN 'Won' ELSE 'Lost' END AS match_outcome\n",
    "FROM match m\n",
    "WHERE m.toss_name IS NOT NULL\n",
    "ORDER BY m.match_id\n",
    "\"\"\")\n",
    "toss_impact_individual_matches.show()"
   ]
  },
  {
   "cell_type": "code",
   "execution_count": 0,
   "metadata": {
    "application/vnd.databricks.v1+cell": {
     "cellMetadata": {
      "byteLimit": 2048000,
      "rowLimit": 10000
     },
     "inputWidgets": {},
     "nuid": "68e420fe-1205-4044-8131-43af16f2f4ed",
     "showTitle": false,
     "title": ""
    }
   },
   "outputs": [
    {
     "output_type": "stream",
     "name": "stdout",
     "output_type": "stream",
     "text": [
      "+--------+-----------+--------------------+------------+-------------+\n|match_id|toss_winner|           toss_name|match_winner|match_outcome|\n+--------+-----------+--------------------+------------+-------------+\n|    null|     335987|Royal Challengers...|       India|         Lost|\n|    null|     335988| Chennai Super Kings|       India|         Lost|\n|    null|     335989|    Rajasthan Royals|       India|         Lost|\n|    null|     335990|      Mumbai Indians|       India|         Lost|\n|    null|     335991|     Deccan Chargers|       India|         Lost|\n|    null|     335992|     Kings XI Punjab|       India|         Lost|\n|    null|     335993|     Deccan Chargers|       India|         Lost|\n|    null|     335994|      Mumbai Indians|       India|         Lost|\n|    null|     335995|    Rajasthan Royals|       India|         Lost|\n|    null|     335996|      Mumbai Indians|       India|         Lost|\n|    null|     335997|    Rajasthan Royals|       India|         Lost|\n|    null|     335998|Kolkata Knight Ri...|       India|         Lost|\n|    null|     335999|     Deccan Chargers|       India|         Lost|\n|    null|     336000|    Delhi Daredevils|       India|         Lost|\n|    null|     336001| Chennai Super Kings|       India|         Lost|\n|    null|     336002|Kolkata Knight Ri...|       India|         Lost|\n|    null|     336003|Royal Challengers...|       India|         Lost|\n|    null|     336004|     Kings XI Punjab|       India|         Lost|\n|    null|     336005|    Rajasthan Royals|       India|         Lost|\n|    null|     336006| Chennai Super Kings|       India|         Lost|\n+--------+-----------+--------------------+------------+-------------+\nonly showing top 20 rows\n\n"
     ]
    }
   ],
   "source": [
    "toss_impact_individual_matches = spark.sql(\"\"\"\n",
    "SELECT m.match_id, m.toss_winner, m.toss_name, m.match_winner,\n",
    "       CASE WHEN m.toss_winner = m.match_winner THEN 'Won' ELSE 'Lost' END AS match_outcome\n",
    "FROM match m\n",
    "WHERE m.toss_name IS NOT NULL\n",
    "ORDER BY m.match_id\n",
    "\"\"\")\n",
    "toss_impact_individual_matches.show()"
   ]
  },
  {
   "cell_type": "code",
   "execution_count": 0,
   "metadata": {
    "application/vnd.databricks.v1+cell": {
     "cellMetadata": {
      "byteLimit": 2048000,
      "rowLimit": 10000
     },
     "inputWidgets": {},
     "nuid": "8340c6df-156b-4751-9c9c-578456a72618",
     "showTitle": false,
     "title": ""
    }
   },
   "outputs": [
    {
     "output_type": "stream",
     "name": "stdout",
     "output_type": "stream",
     "text": [
      "+-----------+----------------+--------------+\n|player_name|avg_runs_in_wins|innings_played|\n+-----------+----------------+--------------+\n+-----------+----------------+--------------+\n\n"
     ]
    }
   ],
   "source": [
    "average_runs_in_wins = spark.sql(\"\"\"\n",
    "SELECT p.player_name, AVG(b.runs_scored) AS avg_runs_in_wins, COUNT(*) AS innings_played\n",
    "FROM ball_by_ball b\n",
    "JOIN player_match pm ON b.match_id = pm.match_id AND b.striker = pm.player_id\n",
    "JOIN player p ON pm.player_id = p.player_id\n",
    "JOIN match m ON pm.match_id = m.match_id\n",
    "WHERE m.match_winner = pm.player_team\n",
    "GROUP BY p.player_name\n",
    "ORDER BY avg_runs_in_wins ASC\n",
    "\"\"\")\n",
    "average_runs_in_wins.show()"
   ]
  },
  {
   "cell_type": "code",
   "execution_count": 0,
   "metadata": {
    "application/vnd.databricks.v1+cell": {
     "cellMetadata": {
      "byteLimit": 2048000,
      "rowLimit": 10000
     },
     "inputWidgets": {},
     "nuid": "252b8750-70d6-4475-b300-9c4e794dbe16",
     "showTitle": false,
     "title": ""
    }
   },
   "outputs": [],
   "source": [
    "import matplotlib.pyplot as plt"
   ]
  },
  {
   "cell_type": "code",
   "execution_count": 0,
   "metadata": {
    "application/vnd.databricks.v1+cell": {
     "cellMetadata": {
      "byteLimit": 2048000,
      "rowLimit": 10000
     },
     "inputWidgets": {},
     "nuid": "0a9147de-883f-47c9-b33a-f0b51fd46933",
     "showTitle": false,
     "title": ""
    }
   },
   "outputs": [
    {
     "output_type": "display_data",
     "data": {
      "image/png": "[encoded data removed]"
     },
     "metadata": {
      "application/vnd.databricks.v1+output": {
       "addedWidgets": {},
       "arguments": {},
       "data": "data:image/png;base64,iVBORw0KGgoAAAANSUhEUgAAA1gAAAI4CAYAAAB3HEhGAAAAOXRFWHRTb2Z0d2FyZQBNYXRwbG90bGliIHZlcnNpb24zLjUuMSwgaHR0cHM6Ly9tYXRwbG90bGliLm9yZy/YYfK9AAAACXBIWXMAAAsTAAALEwEAmpwYAABVFklEQVR4nO3dd5RsVZmG8ecliaKIDpgAJYiBUTEgZsWAggooIoJgVjBgTpgQMeeIjuA4RkTFMKgoZtQZA6AoguIAioAoUUHJ8M0fezcUTd97+8Kpru7bz2+tu27XqdPVu09XOO/Ze387VYUkSZIk6bpbadINkCRJkqQVhQFLkiRJkgZiwJIkSZKkgRiwJEmSJGkgBixJkiRJGogBS5IkSZIGYsCSpAUmyauTfOw6PsYGSSrJKkO161q0YZ8kn5mDn3Odj9dCkeSHSZ456XbMtSR7JHnfpNsxG0l+keTfJ90OSeNjwJI055L8KcklSdaetv1X/aR/g+v4+JXktku5/6lJLk/yz2n/bnVdfu5cqaq3VNVYT6L73+jCflzOTfKNJOuP82eOy3U5Xkk+0Z+r/0xyTpLvJLnD0G1cCPrr5pgkFyT5a5KPJFlrHrRrNeC1wDuTPGDk9fyv/l4w+hq/9UA/8439WFyWZJ8Z7n9ikpN7G76a5KYjd78L2HeIdkianwxYkiblj8AuUzeS3Bm4wRz+/J9W1Q2n/fvLHP78hWDbqrohcEvgb8AHJ9weANLM5efXO/pxWA84A/jEHP7sK024t/GlwNuBlwM3Bu4N3Ab4Tg84Q/6s5f09twd+X1WnVdWPp17PwFQv0Vojr/E/D9TME4BXAN+Yfkfvnfoo8CTg5sAFwIdHdjkEeHCSWwzUFknzjAFL0qR8GnjyyO2nAJ8a3SHJjZN8KsmZ/Wrwa6dOrJPcNsnhSf6R5Kwkn+/bf9S//df9ivUTlrdhSdZP8uX+c89O8qG+faXehpOTnNHbduN+39SQu6ck+XNv02tGHvN6Sd6X5C/93/uSXK/ft2WSU5O8oj/u6Ukek+SRSf7Qe05ePfJYVxtal+T+Sf43yd+TnJLkqX37o3qv4Hl9+z7LeywAquoi4GBg05GfubS/zclJ7tG/3rUfl3/vt5+R5KtLOO73Hvk9fp1ky5H7fpjkzUn+h3bCulHvUTkpyflJ/phk1yU87pXHa1l/p2UchwuAA4E79ce6Y2/X35Mcm2S7vn3Dvm3qeByQ5IyR9nw6yYtGjuN/9r/5aUnelGTlft9Tk/xPkvcmORvYZ2Tbh/pz//dJHrqE33vjJN/vz+Gzknw2vccpycuTfGna/h9I8v4ZHmdN4A3A86vqW1V1aVX9CdgJ2ADYLcmt0no8bzryfXfrP3fVfvvpSX6X1iN6WJLbjOxbSZ6X5P+A/0vz3v56OC+tt+hOS/jTbAMcvoT7Rn+PWyU5pL+eTkjyrJH79klycJLP9+fTL5NstqTHqqpPVtU3gfNnuHtX4GtV9aOq+ifwOmCHJDfq33sRcBTwiGW1WdLCZMCSNCk/A9bsJ6krAzsD0+fjfJB2tXwj4EG0QPa0ft8bgW8DN6H1LHwQoKoe2O/frF+x/vzyNKq35evAybSTx3WBg/rdT+3/HtzbdEPgQ9Me4v7A7YGHAnsnuWPf/hraVf+7ApsBW9CGNU25BbB6/3l7AwcAuwH3AB4AvC7JhjO09zbAN/vvv05//KP73f+iHbO1gEcBz0nymNkch2k/4wbAE2h/sylL+9scDmzZv34QcBLwwJHb1zgZTrIurTfgTcBNgZcBX0qyzshuTwJ2B24EnAl8ANimqm4E3Jerfu/ZWNLfaYmS3JB28vyrHhq+RnsO3gx4PvDZJLevqj8C5wF369/6QOCfIz9j9Bh8ArgMuG3f/+HA6HDGe9GO382BN49sOxFYG3g98OVcfQjalU0G3grcCrgjsD6wT7/vM8DWI4FrFdpr8FPXeJR2bFcHvjy6sYeHQ4Gteu/vT4HHjezyRODgqro0yfbAq4EdaM/THwOfm/ZzHtN/t037cXggcDva82wn4OwZ2gZwZ+D4Jdw36iDgVNrx2BF4S5KHjNy/PfBF2vPvQOCrU+FwOf078OupG1V1InAJ7XeZ8jva+4CkFZABS9IkTfVibUU74Tht6o6R0PWqqjq/XzF/N+0kG+BS2hClW1XVRVX1k+X82ffuvQxT/07s27egnYC9vKr+Ne2xdwXeU1Un9ZPLVwE75+pDmt5QVRdW1a9pJ1mbjXzvvlV1RlWdSesReNLI910KvLmqLqWdCK4NvL//7scCxzHzCdkTge9W1ed6z8LZVXU0QFX9sKqOqaorquo3tBPaBy3HMfpqkr8D/6D9jd4Js/rbHD7ycx5AO8mfuj1jwKKFyUOr6tDe3u8ARwKPHNnnE1V1bFVdRgslVwB3SnL9qjq9H6fZWtLfaSYv68fhBFqofiotLN8QeFtVXVJV36cF86lhr4cDD8pVw8AO7rc3BNak9bDevP9+L+rPtTOA99KO7ZS/VNUHq+qyqrqwbzsDeF//e3+eFi4eNb3RVXVCVX2nqi7uz7n30P8OVXU68CPg8X33rYGzquqoGX7/tft9l81w3+n9fmihZBdowzj773Fgv+/ZwFur6nf9cd4C3HW0F6vff07/PS+lBek7AOnfd/oMPx/aBYSZepKulDZ/8H7AK/tr+mjgY1y9F/2oqjq4vwbfQwuV917a4y7BDWmvmVH/oP0+U87v7Za0AjJgSZqkT9MCwlO55pXztYFVaT1JU06m9fBAm/8Q4Bd9eNbTl/Nn/6yq1hr5t3Hfvj5w8hJOJm81Q3tWofUuTPnryNcX0E62lvS9o0U1zq6qy/vXUyfSfxu5/8KRxxq1Pq034xqS3CvJD9KG8f2DdpK79kz7LsFjqmot2onmnsDhPTAs629zOPCAJLcEVga+ANwvrXjJjZm5p+k2wONHQy+tl+mWI/ucMvVFVf2L1qv2bOD0tCIcy1N8Ykl/p5m8qz9HblFV2/UeiVsBp1TVFSP7TT8GW9J6YX4E/JAWbh4E/Lh/321ox/H0kd/5o7QesWv8ziNOq6qa9nOvUaAlyc2THNSHHp5H67Ua/ft/khZs6f9/egm//1nA2pl5btQt+/0AXwLu0//uD6QF4B/3+24DvH/k9zyH9vpdd+SxRv++36f1Du8HnJFk/z5UcSbncvXwMpNbAedU1WgQG/17Tf/5V3BVb9fy+ictRI9ak6uHwBsBf78Wjy1pATBgSZqYqjqZVuzikUwbfkQ7aZvqpZpya3ovV1X9taqeVVW3AvYAPpylVA5cDqcAt17CyeRfZmjPZVw9CC3JTN87RFGNU4CNl3DfgbQJ9etX1Y2B/6Cd1C6Xqrq8qr4MXE4LPcv625xACy3PB35UVefRAs3uwE+mhZLR3+PT00LvGlX1ttGmTGvXYVW1Fe0k//e0YZVz5S/A+rl6sY0rjwE9ZNJC1uHAT2g9KKM9eKcAFwNrj/zOa1bVaAnvq/3O3bq9h2j05870XHpL//47V9WatBA1+n1fBe7S5zY9GvjsEn7Xn/Z27jC6sQ+Z3Ab4HkBVnUsbMvkE2oWTg0aC4CnAHtP+vtevqv9d0u9aVR+oqnvQhgzejlZgYya/4erD72byF+CmU/OgutG/F7SLFVO/20q0ocfX5jV6LCM9okk2Aq4H/GFknzsyMoxQ0orFgCVp0p4BPKT3SFyp9+Z8AXhzkhv1oUQvoc/TSvL4JOv13c+lnZxNnbj/jTY36Nr4BW3Y09uSrJFk9ST36/d9DnhxWhGDG9JOYD+/hN6u6T4HvDbJOmnl6ffmmnPOro3PAg9LslOSVZL8W5K79vtuRLtqf1GSLWgnvcutFxzYnjbf7XfL+tt0h9N7vfrtH067Pd1ngG2TPCLJyv24bznyN57eppsn2T7JGrST/39y1d9/LvycFiJfkWTVtIIc29Ln61XV/9F6HXcDDu8h82+0OUqH931OpwWSdydZM62IysZJljWM82bAC/rPfTztZP3QGfa7Ee24/KPPcbtaQKmripccCPyillBhr6r+QRvS+sEkW/efuwHtOXAqV+/5OpA27G5HrhoeCC3cvypXFTu5cW/7jJLcs/fArkqbS3gRS/77Hsoyhr5W1SnA/wJv7c+tu9Dee0afs/dIskO/uPIi2vPqZ9d4sNa+VZOsTjuPWqU/5sr97s/SnssP6M/PfYEvT/We9e+7B/CdpbVZ0sJlwJI0UVV1YlUduYS7n087uTqJ1gNwIPDxft89gZ8n+Setl+aFVXVSv28f4JN9ONJOS3js++Sa62Dds4eHbWlFB/5MO4GcqkT4cdrJ5I9oPW8X9TbOxptoc4p+AxwD/LJvu076SfEjgZfShl0dzVVXz58L7JvkfFqg+8JyPvzX+vE9j1Zg4Skj85yW9reBFiJuRDtWM92e/nucQisy8GpaAYtTaIFgSZ9TK9FC3V9ov/eDgOcs5+93rVXVJbTnyTa0Hr0PA0+uqt+P7HY4bejnKSO3Q/vbT3kysBptjt25tMAzOixyJj8HNuk/983AjlU1UwGINwB3p83/+QbX7CWGNkzwzix5eCAAVfUO2t/mXbTnw89pf6OHVtXFI7se0tv21z6/ber7v0Ir835QH674W9qxW5I1aT2S59KG8p1NnwM4g68Bd8iy17HbhVa45i/AV4DXV9V3R+7/b9pr/VzafMId+nysmRxAC9C70ArYXNi/h/4aeTYtaJ1Be94/d+R7twV+WC4LIa2wcvVh3JIkab5KK8H/zKq6/0CPd2va8Mpb9F62BSnJ7sCmVfWia/n9+wC3rardlrXvdZXk58Azquq34/5ZkiZjYosWSpKkyenzjF5Cmyu1YMMVQFXtP+k2zFZV3WvSbZA0XmMdItjHah+ftqDfXjPc/94kR/d/f+iVhSRJ0hj1uUHn0crvv37CzZGkFcrYhgj2yZ5/oL15nwocAexSVcctYf/nA3erquUttSxJkiRJ88I4e7C2AE6otiDnJbTKStsvZf9duOaq7pIkSZK0YIxzDta6XH2BxFOBGccd9xK/GwLfX8L9u9PWT2GNNda4xx3usDxrSUqSJEnSsI466qizqmqd6dvnS5GLnYGDe3nka+iTV/cH2HzzzevII5dU0VmSJEmSxi/JyTNtH+cQwdMYWRWdtiL6aUvYd2ccHihJkiRpgRtnwDoC2CTJhklWo4WoQ6bvlOQOwE2An46xLZIkSZI0dmMLWFV1GbAncBjwO+ALVXVskn2TbDey6860NThc8ViSJEnSgjbWOVhVdShw6LRte0+7vc842yBJkiRJc2WsCw1LkiRJ0mJiwJIkSZKkgRiwJEmSJGkgBixJkiRJGogBS5IkSZIGYsCSJEmSpIEYsCRJkiRpIAYsSZIkSRqIAUuSJEmSBmLAkiRJkqSBGLAkSZIkaSAGLEmSJEkaiAFLkiRJkgZiwJIkSZKkgRiwJEmSJGkgBixJkiRJGogBS5IkSZIGssqkGyBJkiQBvO1XZ026CXNqr7utfa2/12M1f9mDJUmSJEkDMWBJkiRJ0kAMWJIkSZI0EAOWJEmSJA3EgCVJkiRJAzFgSZIkSdJADFiSJEmSNBDXwZIkSRoz1yySFg97sCRJkiRpIAYsSZIkSRqIAUuSJEmSBmLAkiRJkqSBGLAkSZIkaSAGLEmSJEkaiAFLkiRJkgZiwJIkSZKkgRiwJEmSJGkgBixJkiRJGogBS5IkSZIGYsCSJEmSpIEYsCRJkiRpIAYsSZIkSRqIAUuSJEmSBmLAkiRJkqSBGLAkSZIkaSAGLEmSJEkaiAFLkiRJkgZiwJIkSZKkgRiwJEmSJGkgBixJkiRJGogBS5IkSZIGYsCSJEmSpIEYsCRJkiRpIAYsSZIkSRqIAUuSJEmSBmLAkiRJkqSBGLAkSZIkaSAGLEmSJEkaiAFLkiRJkgZiwJIkSZKkgYw1YCXZOsnxSU5IstcS9tkpyXFJjk1y4DjbI0mSJEnjtMq4HjjJysB+wFbAqcARSQ6pquNG9tkEeBVwv6o6N8nNxtUeSZIkSRq3cfZgbQGcUFUnVdUlwEHA9tP2eRawX1WdC1BVZ4yxPZIkSZI0VuMMWOsCp4zcPrVvG3U74HZJ/ifJz5JsPdMDJdk9yZFJjjzzzDPH1FxJkiRJum4mXeRiFWATYEtgF+CAJGtN36mq9q+qzatq83XWWWduWyhJkiRJszTOgHUasP7I7fX6tlGnAodU1aVV9UfgD7TAJUmSJEkLzjgD1hHAJkk2TLIasDNwyLR9vkrrvSLJ2rQhgyeNsU2SJEmSNDZjC1hVdRmwJ3AY8DvgC1V1bJJ9k2zXdzsMODvJccAPgJdX1dnjapMkSZIkjdPYyrQDVNWhwKHTtu098nUBL+n/JEmSJGlBm3SRC0mSJElaYRiwJEmSJGkgBixJkiRJGogBS5IkSZIGYsCSJEmSpIGMtYqgJElacb3tV2dNuglzaq+7rT3pJkhaAOzBkiRJkqSBGLAkSZIkaSAGLEmSJEkaiAFLkiRJkgZiwJIkSZKkgRiwJEmSJGkgBixJkiRJGogBS5IkSZIGYsCSJEmSpIEYsCRJkiRpIAYsSZIkSRqIAUuSJEmSBmLAkiRJkqSBGLAkSZIkaSAGLEmSJEkaiAFLkiRJkgZiwJIkSZKkgRiwJEmSJGkgBixJkiRJGogBS5IkSZIGYsCSJEmSpIEYsCRJkiRpIAYsSZIkSRqIAUuSJEmSBmLAkiRJkqSBGLAkSZIkaSAGLEmSJEkaiAFLkiRJkgZiwJIkSZKkgRiwJEmSJGkgBixJkiRJGogBS5IkSZIGYsCSJEmSpIEYsCRJkiRpIAYsSZIkSRqIAUuSJEmSBmLAkiRJkqSBGLAkSZIkaSAGLEmSJEkaiAFLkiRJkgZiwJIkSZKkgRiwJEmSJGkgBixJkiRJGogBS5IkSZIGYsCSJEmSpIEYsCRJkiRpIAYsSZIkSRqIAUuSJEmSBmLAkiRJkqSBGLAkSZIkaSAGLEmSJEkaiAFLkiRJkgYy1oCVZOskxyc5IcleM9z/1CRnJjm6/3vmONsjSZIkSeO0yrgeOMnKwH7AVsCpwBFJDqmq46bt+vmq2nNc7ZAkSZKkuTLOHqwtgBOq6qSqugQ4CNh+jD9PkiRJkiZqbD1YwLrAKSO3TwXuNcN+j0vyQOAPwIur6pTpOyTZHdgd4Na3vvUYmqq58LZfnTXpJsypve629rX+Xo/V7HmsZm8xHSuP0+xdl2MlSbqmSRe5+BqwQVXdBfgO8MmZdqqq/atq86rafJ111pnTBkqSJEnSbI0zYJ0GrD9ye72+7UpVdXZVXdxvfgy4xxjbI0mSJEljNc6AdQSwSZINk6wG7AwcMrpDkluO3NwO+N0Y2yNJkiRJYzW2OVhVdVmSPYHDgJWBj1fVsUn2BY6sqkOAFyTZDrgMOAd46rjaI0mSJEnjNs4iF1TVocCh07btPfL1q4BXjbMNkiRJkjRXJl3kQpIkSZJWGAYsSZIkSRqIAUuSJEmSBmLAkiRJkqSBGLAkSZIkaSAGLEmSJEkaiAFLkiRJkgZiwJIkSZKkgRiwJEmSJGkgBixJkiRJGogBS5IkSZIGYsCSJEmSpIEYsCRJkiRpIAYsSZIkSRqIAUuSJEmSBmLAkiRJkqSBGLAkSZIkaSAGLEmSJEkaiAFLkiRJkgZiwJIkSZKkgRiwJEmSJGkgBixJkiRJGogBS5IkSZIGYsCSJEmSpIEYsCRJkiRpIAYsSZIkSRqIAUuSJEmSBmLAkiRJkqSBGLAkSZIkaSAGLEmSJEkaiAFLkiRJkgZiwJIkSZKkgRiwJEmSJGkgBixJkiRJGogBS5IkSZIGYsCSJEmSpIEYsCRJkiRpIAYsSZIkSRqIAUuSJEmSBmLAkiRJkqSBGLAkSZIkaSCrLOmOJDdd2jdW1TnDN0eSJEmSFq4lBizgKKCAzHBfARuNpUWSJEmStEAtMWBV1YZz2RBJkiRJWuiWNkTw7kv7xqr65fDNkSRJkqSFa2lDBN+9lPsKeMjAbZEkSZKkBW1pQwQfPJcNkSRJkqSFbmk9WFdKcidgU2D1qW1V9alxNUqSJEmSFqJlBqwkrwe2pAWsQ4FtgJ8ABixJkiRJGjGbhYZ3BB4K/LWqngZsBtx4rK2SJEmSpAVoNgHrwqq6ArgsyZrAGcD6422WJEmSJC08s5mDdWSStYADaIsP/xP46TgbJUmSJEkL0TIDVlU9t3/5H0m+BaxZVb8Zb7MkSZIkaeFZ6hDBJKskSf96fWBzYOW5aJgkSZIkLTRLDFhJnkWbb3Vy//p7tIIXByV55Ry1T5IkSZIWjKUNEXwRsDFwI+B3wG2q6qwkNwCOAN4+/uZJkiRJ0sKxtIB1SVWdC5yb5ISqOgugqi5IcsncNE+SJEmSFo6lzcG6fpK7JbkHsFr/+u799uqzefAkWyc5PskJSfZayn6PS1JJNl/O9kuSJEnSvLG0HqzTgff0r/868vXU7aVKsjKwH7AVcCpwRJJDquq4afvdCHgh8PPlaLckSZIkzTtLDFhV9eDr+NhbACdU1UkASQ4CtgeOm7bfG2nzuV5+HX+eJEmSJE3UUsu0X0frAqeM3D61b7tSkrsD61fVN8bYDkmSJEmaE+MMWEuVZCXasMOXzmLf3ZMcmeTIM888c/yNkyRJkqRrYVkLDacvMHxtnAaMfu96fduUGwF3An6Y5E/AvYFDZip0UVX7V9XmVbX5Ouuscy2bI0mSJEnjtdSAVVUFHHotH/sIYJMkGyZZDdgZOGTksf9RVWtX1QZVtQHwM2C7qjryWv48SZIkSZqo2QwR/GWSey7vA1fVZcCewGG0hYq/UFXHJtk3yXbL+3iSJEmSNN8trUz7lHsBuyY5GfgXEFrn1l2W9Y1VdSjTesCqau8l7LvlLNoiSZIkSfPWbALWI8beCkmSJElaASxziGBVnUwrVvGQ/vUFs/k+SZIkSVpslhmUkrweeCXwqr5pVeAz42yUJEmSJC1Es+mJeiywHW3+FVX1F1qJdUmSJEnSiNkErEt6ufYCSLLGeJskSZIkSQvTbALWF5J8FFgrybOA7wIHjLdZkiRJkrTwLLOKYFW9K8lWwHnA7YC9q+o7Y2+ZJEmSJC0wsynTDnAMcH3aMMFjxtccSZIkSVq4ZlNF8JnAL4AdgB2BnyV5+rgbJkmSJEkLzWx6sF4O3K2qzgZI8m/A/wIfH2fDJEmSJGmhmU2Ri7OB80dun9+3SZIkSZJGzKYH6wTg50n+mzYHa3vgN0leAlBV7xlj+yRJkiRpwZhNwDqx/5vy3/1/FxuWJEmSpBGzKdP+hrloiCRJkiQtdLOZgyVJkiRJmgUDliRJkiQNxIAlSZIkSQOZzULD70iyZpJVk3wvyZlJdpuLxkmSJEnSQjKbHqyHV9V5wKOBPwG3pS0+LEmSJEkaMZuANVVp8FHAF6vqH2NsjyRJkiQtWLNZB+vrSX4PXAg8J8k6wEXjbZYkSZIkLTzL7MGqqr2A+wKbV9WlwL+A7cfdMEmSJElaaGbTgwVwB2CDJKP7f2oM7ZEkSZKkBWuZASvJp4GNgaOBy/vmwoAlSZIkSVczmx6szYFNq6rG3RhJkiRJWshmU0Xwt8Atxt0QSZIkSVroZtODtTZwXJJfABdPbayq7cbWKkmSJElagGYTsPYZdyMkSZIkaUWwzIBVVYfPRUMkSZIkaaGbTRXB82lVAwFWA1YF/lVVa46zYZIkSZK00MymB+tGU18nCW2R4XuPs1GSJEmStBDNporglar5KvCI8TRHkiRJkhau2QwR3GHk5kq0dbEuGluLJEmSJGmBmk0VwW1Hvr4M+BNgiXZJkiRJmmY2c7CeNno7yU2A5wJvHlejJEmSJGkhWuIcrCTrJ9k/ydeTPCPJGkneDRwP3GzumihJkiRJC8PSerA+BRwOfAnYGjgSOBq4S1X9dfxNkyRJkqSFZWkB66ZVtU//+rAkjwd2raorxt8sSZIkSVp4ljoHq8+3Sr95NnDjvhYWVXXOmNsmSZIkSQvK0gLWjYGjuCpgAfyy/1/ARuNq1ELztl+dNekmzJm97rb2pJsgSZIkzVtLDFhVtcEctkOSJEmSFrwlVhGUJEmSJC0fA5YkSZIkDcSAJUmSJEkDmVXASnL/JE/rX6+TZMPxNkuSJEmSFp5lBqwkrwdeCbyqb1oV+Mw4GyVJkiRJC9FserAeC2wH/Augqv4C3GicjZIkSZKkhWg2AeuSqira2lckWWO8TZIkSZKkhWk2AesLST4KrJXkWcB3gQPG2yxJkiRJWniWuNDwlKp6V5KtgPOA2wN7V9V3xt4ySZIkSVpglhmwAHqgMlRJkiRJ0lIsM2AlOZ8+/2rEP4AjgZdW1UnjaJgkSZIkLTSz6cF6H3AqcCAQYGdgY+CXwMeBLcfUNkmSJElaUGZT5GK7qvpoVZ1fVedV1f7AI6rq88BNxtw+SZIkSVowZhOwLkiyU5KV+r+dgIv6fdOHDkqSJEnSojWbgLUr8CTgDOBv/evdklwf2HOMbZMkSZKkBWU2ZdpPArZdwt0/GbY5kiRJkrRwzaaK4OrAM4B/B1af2l5VTx9juyRJkiRpwZnNEMFPA7cAHgEcDqwHnD+bB0+ydZLjk5yQZK8Z7n92kmOSHJ3kJ0k2XZ7GS5IkSdJ8MpuAdduqeh3wr6r6JPAo4F7L+qYkKwP7AdsAmwK7zBCgDqyqO1fVXYF3AO9ZnsZLkiRJ0nwym4B1af//70nuBNwYuNksvm8L4ISqOqmqLgEOArYf3aGqzhu5uQZWJZQkSZK0gM1moeH9k9wEeC1wCHBD4HWz+L51gVNGbp/KDD1fSZ4HvARYDXjITA+UZHdgd4Bb3/rWs/jRkiRJkjT3ltqDlWQl4LyqOreqflRVG1XVzarqo0M1oKr2q6qNgVfSQtxM++xfVZtX1ebrrLPOUD9akiRJkga11IBVVVcAr7iWj30asP7I7fX6tiU5CHjMtfxZkiRJkjRxs5mD9d0kL0uyfpKbTv2bxfcdAWySZMMkqwE704YYXinJJiM3HwX836xbLkmSJEnzzGzmYD2h//+8kW0FbLS0b6qqy5LsCRwGrAx8vKqOTbIvcGRVHQLsmeRhtEIa5wJPWd5fQJIkSZLmi2UGrKra8No+eFUdChw6bdveI1+/8No+tiRJkiTNN8scIpjkBklem2T/fnuTJI8ef9MkSZIkaWGZzRys/wIuAe7bb58GvGlsLZIkSZKkBWo2AWvjqnoHfcHhqroAyFhbJUmSJEkL0GwC1iVJrk8rbEGSjYGLx9oqSZIkSVqAZlNFcB/gW8D6ST4L3A946hjbJEmSJEkL0myqCH47yVHAvWlDA19YVWeNvWWSJEmStMAsM2Al+RpwIHBIVf1r/E2SJEmSpIVpNnOw3gU8ADguycFJdkyy+pjbJUmSJEkLzmyGCB4OHJ5kZeAhwLOAjwNrjrltkiRJkrSgzKbIBb2K4LbAE4C7A58cZ6MkSZIkaSGazRysLwBb0CoJfgg4vKquGHfDJEmSJGmhmU0P1n8Cu1TV5QBJ7p9kl6p63nibJkmSJEkLy2zmYB2W5G5JdgF2Av4IfHnsLZMkSZKkBWaJASvJ7YBd+r+zgM8DqaoHz1HbJEmSJGlBWVoP1u+BHwOPrqoTAJK8eE5aJUmSJEkL0NLWwdoBOB34QZIDkjwUyNw0S5IkSZIWniUGrKr6alXtDNwB+AHwIuBmST6S5OFz1D5JkiRJWjCW1oMFQFX9q6oOrKptgfWAXwGvHHvLJEmSJGmBWWbAGlVV51bV/lX10HE1SJIkSZIWquUKWJIkSZKkJTNgSZIkSdJADFiSJEmSNBADliRJkiQNxIAlSZIkSQMxYEmSJEnSQAxYkiRJkjQQA5YkSZIkDcSAJUmSJEkDMWBJkiRJ0kAMWJIkSZI0EAOWJEmSJA3EgCVJkiRJAzFgSZIkSdJADFiSJEmSNBADliRJkiQNxIAlSZIkSQMxYEmSJEnSQAxYkiRJkjQQA5YkSZIkDcSAJUmSJEkDMWBJkiRJ0kAMWJIkSZI0EAOWJEmSJA3EgCVJkiRJAzFgSZIkSdJADFiSJEmSNBADliRJkiQNxIAlSZIkSQMxYEmSJEnSQAxYkiRJkjQQA5YkSZIkDcSAJUmSJEkDMWBJkiRJ0kAMWJIkSZI0EAOWJEmSJA3EgCVJkiRJAzFgSZIkSdJADFiSJEmSNJCxBqwkWyc5PskJSfaa4f6XJDkuyW+SfC/JbcbZHkmSJEkap7EFrCQrA/sB2wCbArsk2XTabr8CNq+quwAHA+8YV3skSZIkadzG2YO1BXBCVZ1UVZcABwHbj+5QVT+oqgv6zZ8B642xPZIkSZI0VuMMWOsCp4zcPrVvW5JnAN+c6Y4kuyc5MsmRZ5555oBNlCRJkqThzIsiF0l2AzYH3jnT/VW1f1VtXlWbr7POOnPbOEmSJEmapVXG+NinAeuP3F6vb7uaJA8DXgM8qKouHmN7JEmSJGmsxtmDdQSwSZINk6wG7AwcMrpDkrsBHwW2q6ozxtgWSZIkSRq7sQWsqroM2BM4DPgd8IWqOjbJvkm267u9E7gh8MUkRyc5ZAkPJ0mSJEnz3jiHCFJVhwKHTtu298jXDxvnz5ckSZKkuTQvilxIkiRJ0orAgCVJkiRJAzFgSZIkSdJADFiSJEmSNBADliRJkiQNxIAlSZIkSQMxYEmSJEnSQAxYkiRJkjQQA5YkSZIkDcSAJUmSJEkDMWBJkiRJ0kAMWJIkSZI0EAOWJEmSJA3EgCVJkiRJAzFgSZIkSdJADFiSJEmSNBADliRJkiQNxIAlSZIkSQMxYEmSJEnSQAxYkiRJkjQQA5YkSZIkDcSAJUmSJEkDMWBJkiRJ0kAMWJIkSZI0EAOWJEmSJA3EgCVJkiRJAzFgSZIkSdJADFiSJEmSNBADliRJkiQNxIAlSZIkSQMxYEmSJEnSQAxYkiRJkjQQA5YkSZIkDcSAJUmSJEkDMWBJkiRJ0kAMWJIkSZI0EAOWJEmSJA3EgCVJkiRJAzFgSZIkSdJADFiSJEmSNBADliRJkiQNxIAlSZIkSQMxYEmSJEnSQAxYkiRJkjQQA5YkSZIkDcSAJUmSJEkDMWBJkiRJ0kAMWJIkSZI0EAOWJEmSJA3EgCVJkiRJAzFgSZIkSdJADFiSJEmSNBADliRJkiQNxIAlSZIkSQMxYEmSJEnSQAxYkiRJkjQQA5YkSZIkDcSAJUmSJEkDGWvASrJ1kuOTnJBkrxnuf2CSXya5LMmO42yLJEmSJI3b2AJWkpWB/YBtgE2BXZJsOm23PwNPBQ4cVzskSZIkaa6sMsbH3gI4oapOAkhyELA9cNzUDlX1p37fFWNshyRJkiTNiXEOEVwXOGXk9ql923JLsnuSI5MceeaZZw7SOEmSJEka2oIoclFV+1fV5lW1+TrrrDPp5kiSJEnSjMYZsE4D1h+5vV7fJkmSJEkrpHEGrCOATZJsmGQ1YGfgkDH+PEmSJEmaqLEFrKq6DNgTOAz4HfCFqjo2yb5JtgNIcs8kpwKPBz6a5NhxtUeSJEmSxm2cVQSpqkOBQ6dt23vk6yNoQwclSZIkacFbEEUuJEmSJGkhMGBJkiRJ0kAMWJIkSZI0EAOWJEmSJA3EgCVJkiRJAzFgSZIkSdJADFiSJEmSNBADliRJkiQNxIAlSZIkSQMxYEmSJEnSQAxYkiRJkjQQA5YkSZIkDcSAJUmSJEkDMWBJkiRJ0kAMWJIkSZI0EAOWJEmSJA3EgCVJkiRJAzFgSZIkSdJADFiSJEmSNBADliRJkiQNxIAlSZIkSQMxYEmSJEnSQAxYkiRJkjQQA5YkSZIkDcSAJUmSJEkDMWBJkiRJ0kAMWJIkSZI0EAOWJEmSJA3EgCVJkiRJAzFgSZIkSdJADFiSJEmSNBADliRJkiQNxIAlSZIkSQMxYEmSJEnSQAxYkiRJkjQQA5YkSZIkDcSAJUmSJEkDMWBJkiRJ0kAMWJIkSZI0EAOWJEmSJA3EgCVJkiRJAzFgSZIkSdJADFiSJEmSNBADliRJkiQNxIAlSZIkSQMxYEmSJEnSQAxYkiRJkjQQA5YkSZIkDcSAJUmSJEkDMWBJkiRJ0kAMWJIkSZI0EAOWJEmSJA3EgCVJkiRJAzFgSZIkSdJADFiSJEmSNBADliRJkiQNxIAlSZIkSQMZa8BKsnWS45OckGSvGe6/XpLP9/t/nmSDcbZHkiRJksZpbAErycrAfsA2wKbALkk2nbbbM4Bzq+q2wHuBt4+rPZIkSZI0buPswdoCOKGqTqqqS4CDgO2n7bM98Mn+9cHAQ5NkjG2SJEmSpLEZZ8BaFzhl5PapfduM+1TVZcA/gH8bY5skSZIkaWxSVeN54GRHYOuqema//STgXlW158g+v+37nNpvn9j3OWvaY+0O7N5v3h44fiyNXnjWBs5a5l7yOM2ex2r2PFaz43GaPY/V7HmsZs9jNTsep9nzWF3lNlW1zvSNq4zxB54GrD9ye72+baZ9Tk2yCnBj4OzpD1RV+wP7j6mdC1aSI6tq80m3Y77zOM2ex2r2PFaz43GaPY/V7HmsZs9jNTsep9nzWC3bOIcIHgFskmTDJKsBOwOHTNvnEOAp/esdge/XuLrUJEmSJGnMxtaDVVWXJdkTOAxYGfh4VR2bZF/gyKo6BPhP4NNJTgDOoYUwSZIkSVqQxjlEkKo6FDh02ra9R76+CHj8ONuwgnPY5Ox4nGbPYzV7HqvZ8TjNnsdq9jxWs+exmh2P0+x5rJZhbEUuJEmSJGmxGeccLEmSJElaVAxYi1iv3Khpktxs0m2QJEnSwmTAWqSS3AN4VZKbTrot80mSWwGvSXKDSbdFWmySZNJtkKTZGn3P8v1LowxYi9e5wMOApyb5t0k3Zh75B/AaYLMkO026MfNdki2S3H3S7Zgvkqw08vU6o72hfvjOyr/B1Y+jls3jNbPpx8XjdN34HnZNVVVJtktyX5cZWrqp50+SzZLcZdLtGTffbBaZdFV1EvBZ4GnAa5PccMJNm6ipF35V/Qu4CLgjsHuS7SbasHksyWbAh4DzJt2W+SDJLYBH9K+3Ab4DfDHJq+HKD2JPUJagH7MvJnk97bW36qTbtFBU1RUASe6V5JZJ1ppwkyZqagRCVV2R5B5JHpPkhlPHScs2cjK8YZLbQ3sPm2yr5p8kWwCvAHy/Wop+3llJHg58C7jnpNs0bs7BWWSm3iCTPB/YBjgAeDHw9yTvr6q/T7B5EzH1wu9f3wC4uKo+nuRiYI9+/39PtpXzSx9i+nLgkKo6YdLtmSceCWyTZG3awum708LnD/tz6M1TIcsTlatL8iDgHcAuwMuAhwPrJdm3qi6ZaOPmsWnvXXsArwO+B5zd389PnmgDJ6APe39Bku/R1uD8BHA08M4k21XV7ybYvAWjv1c9Gngb8Jse2nepqn9MtmXzR5KbA28BTqqqw0cu1Pr+Pk1/Pj0CeCPw37SL2KzIn4f2YC0yvQNrLWA74M1V9QHgwbThgvskufEk2zfXpp2gvBT4Im3x67tV1WeBg4CnO1zwGs4Hbg7cebEPMR35UP04bWH17YFLgeOq6vfA/YHn9EXW/fAd0d+PVgM2Ap4I3Aq4M/ABYDPgdUmuN8Emzmsj7107AOsBW9CO3T+AVye5zQSbNymrA9cDHkW7yLFjVT0GOBA4IMmmE2zbgpHkXrRwtTXthPihwGcX+/v9NP8CvgQ8MMljq3OkwjUlWR94Ke3C7AeAW8OVwev6k2zbuBiwFoHRF3t//f8d+B2wUZI1qupPwKuB5wO7Jll5Ig2dgJETlPvRPkjeCPwc+HySe1TVp4GvA49bzMMoR4aLbNE/eK8AdgBuDDxjsQXzmSS5LfCfwFdoJ3kPS3KT3sP3EOB5STZ2HsjVrFRVl1TVfwEnAs8Cdq6qzwOXAZsAizEkzEoPqDegLfq5dVX9paqOop0Q/wV4Sz+xWRSSrFRVfwHeB/wTuC1wD4Cqej3wbeDAJHeaWCPnsZH3+ZsCJwG7ApvSRrncCrg+8I0s0kq7I8fn7kk2B25eVR8BXg88c2pKgRfRmpHjtXJVnQJsX1WHA3+nnUNMnXu9bEU8v/KDfgU3rYdm8yT37VcLjgG2BP6977oG7UrMN6rq8ok0dkL6mOA3AYdV1c+q6v3Ae4DPJLl3VR0APKuq/jnRhk7IyNjpRwP/AdybdgJ3W+CFtOfRCxfrvI9+bB5Jm9N4597z+U1aL/EDesj6A7B+VZ3oPJBm6pgl2SfJjlV1Ab0Xpp8A3xR4Qz926qZdHV+5H7e7ArdK8haAqjoa+AbwW1pv6qLQ51xtDtwJeDvtfep2Sbbq9+8LHALcaHKtnJ9G3ue3pAX2i6rq17TRLZ+vqrOBT9Muqi3KgNWPzza03tAtgR/10S6fBD4HvCTJYyfZxvlkqgAIref4QNqIl9CG7q6UZEfaOcURK+L5VQzai0OSFwDPBE4A1gZeQhvKtBFwE2B92lCK4yfWyDkyfcxv7335EO3q3J5V9de+/UXAk4H7VNXFk2jrJOWq+WiX92EhX6AN49qGNvTmcVV1epJNgI8Ae1TViZNr8WT03/+rwDOq6mcj259D+xA+CPgacIXhqklyR+D9wJf7pt2BfYHTaR+4FwLvraovTqaF89O0C2a70XoVjq+q/05bYuJnwGeq6tV9n+sthveukXCwOa0X9J7Ai4AjaMOS1gR+WFWHTq6V81+SrWnDt9YF7ltVv07ydNr72NHAtsDLq+rIiTVygvr71ueAx9GGMu9HuxD0kKr6aZKn0IaGHzHBZs4bSR4AvIs22uWTtCGVT6D1Xh1Gu6D2/Kr61sQaOUYGrEWgvykcADymqs7qc43uAzyPNgxnA+CM3oW7Qpt2gvJo2pWU04GjgP+idV2/rQ8zIclatTgLf6xNC+T/UVV/772e76WdsDyVFib+0K9O/RC4tKounFR7JynJvYFXVdX2/faVJ7VJngb8sl8JFpBWnvf7tDmg7+3b7k2bLL4D7TVJVZ09/WKImiTPBXajFQb5JPCmqnpnWiXLE4F3VNUbJtnGudZ7Fj5Ae5+6C22Ox3uBn9CGwN+Q9pw7a2KNnMeS3J92/J4EPAb4VlUd1S8gPQTYCvhUVR0yuVbOvWnnDCsDt6MtJ/GBqrp7WtXT1wP3MlhdXb/IeBotUL2aViTl5H7fK4HfrcjPJ4cIroBmmGD51/7vVgBV9W7aJOiXV9XZVXXUYghXcLU5Vy8A9qYV+NgXeAOtZP2awL79RIXFGK66s4HPAzdI8uAenkL7AN6th6v7A/sA6y2mcDUyrnyqCusfgNWTbAtQVRcn2SrJXlX1X4arq6uq39CC+gtGtv2MNmdo3f6edHbfbrga0edc3R54NK1q5S2B42nVK/ftve8b0YYwLTabA6+tqg/T3ts/S1vT8G60IPohw9VSrQI8u6qOpV10vU/ffjktpD6+qg6Z4fxihdZ7Ru+d5D1VdXm1KpR3pg0Dh3Zx9ju0oZOL2gzPjXOBPWhl7HerqpOTPCnJ+6rq7Sv688mAtYKZdrXl35LcsqrOpfXMbN6HkUA7wTl3Qs2cmH6CshZtqMOOVfUi2rC3zWlXhJ9PW89i0Z7YpU0Ur6r6I/Bs2uTd+9HmNHwK+Hhamf/9gH2q6rgJNnfO9Q/ch9OC+J5VdQ5tCOADk7wpyUNpk+x/Ncl2zjdp6xFtD1BV2wDHJTkiyW3Tyv4/EFhtoo2ch0ZPQPrr8nhaL/LmwE5VtQXttfnKJM+sqr9V1f9NprVzZ4YTsxvQjgtVdQatWNHFtLL/myzG4ctLM3Kh6M5JNqANNf1Fv/tU2tIttwMOBlafOq9YLBc9Ro7P/WlDAndN8o5+92nAhkn2ob32XlFV312Rw8KyjAzTfXCSJyR5HO1zcU1aAP1XP494Zb8NrNjPJwPWCmYkXL2UNmfmO/1k+Mu0q55vTPJR4Lm0CcArvGlvetcHLqCV8b0xQD9B/iTtQ/h84GlV9bc5b+g80N8kr8hVBSteT7tC92RaNbcX055L5wIvXNGvQI3qw0NIch/a0KM/06of7UU7Jt+iHaMdgL2q6rBJtXW+6aHz08DLk3wiyZ2r6lG0XqujaRc5dqoqQ+mIJDceeU/fMn0CfQ8QU+9l0C4KfY32HFwU+sncPdMWEb4+bYjpKUne33dZg1ZJ8EzasC6N6MfvkbQ5orsCBye5c7/757Qe5s/RCs0cNaFmTkw/PvenjeT4Hm0u312TvKsPa/tv2gWhvaZGKazIYWFZ+vGamsN3Pm3Jm0cAz6EVnXkvbcTLXlX1jcVw3uAcrBVQkofRquI9gjaE5O20D94v0cambwx8dzFc0ZvWo/cUYI2q+nAfN70D8OiqOqUPGbwPLUhcXou4GEHa3LTXAr8GTquqfXtg34Q29Oh/ahFVmuy9vudX1fl9eNZetGPwsSTr0S5kfLOq3tj3X7WqLh197i1mSValXdD5UVX9KsnbafNh/qOqjknySeCOvSdmhV54cnmkzX15KvAZ4L60npgz+t070k7u3kybKH5L4LG1CCoujlwp35JWEOUMWvGmz9N6FvYB1qEdk+1p1TxvWFWvm0R756sk/04LV9vT5li9st+1E60Ywa9oZbW/u1hfk/2z8B5V9YZ+ge3WtAsZn596v+/7LcrjM6ofnwNp0y2mzjt3qKo/pw2nvwJYp6r+tliOlz1YK6aLgROr6h/VFjp9Ie2k8C5V9d2q+uhiCFdwtR6959GuyH23b38DrajFT5K8jzZOeN+qunSRh6u70E7e3kx7s7xTko9Wm7f3N9owykUz1jxtbY6H0RdFpFWMWgd4SJINqupU2vCRxyV5J0BVXdr/X+E/QJYlyWNoJyRPppX3h7bW3HnAi9NKHD8FuDTJN8HjNuL6tGFvu9Iqd25eVQ+iFbHYnzY35uW0K8Pbrejhqgf1qSvld6UFzkdV1QOBPwEPB9auqh1p71P3p5UTfxptPtai1ofH37R/fSvaCe/jaBWEn0cbcvp1Whn7i4DbLrZwNUOvyhXA05OsW23+1R9pw9semeSFUzstluOzJH2EwgOA39AC+uuBXXu4ejKwZT+vOgMWz/EyYK1A+tjXbYGzgFX72OrrV1tI+HOTbd3kpBWseCytx+q0JE9M8kFaF/+2tCufj642eXVRSrJS/9A9gra2zteAHwPPAG7ex06/AXhXH1K5wktbi+lA4FDg7CSfoPXq7Q2cAzwmya2r6nRawYEvL+mxFqO06qXPo83V+ziwZ5Ltqq138ibaMbwCoKruRyvVvuhNneRVKwbycVrxgY1ogYGqejrt2B3YbtY3VvQLZmnLRBzahwJCG22wJW1EBsC7acdktyQPr1a0aQ3g8bS5tr+f4ybPR3cDnpZkT1rvwrk9lN8TOKCq/gEcSxsSvmF/X1tUenh/aNpc2gdVK+v/AeBb/XzqQcAdaKMW1ppkW+eLtPmzb6IVUrsCeBXw5Ko6PsndaBeBLoDFE6ymrLLsXTRfzXBlaX1aUYIH0tZD2Qs4JskltCtVB8x9Kyevqv6a5BfAt2ljy8+jjc1/A/D0qrpsku2bD/rVpb8keTHwviTvr7bWyflJTqdVCryCVjFvhZfkerQKZF+hVU+8LW3YzHtp6+scSFvP44lJDqyqP9PmEwlIshHt9fW3HtZJciawTx9C+aUkr6g232+VqrqsFkkl06WZGl7av34Wrdf4v2il6++T5O9V9fOqekaSqbX7VnjVSvY/E9ggySVV9ZEkNwKeleScqjo8yXtpJ3On9u/5Y5JXVtW/Jtn2eeQUWph6MG0ezF+TrER7bt0zybNpF0R2qarfTp1fLIaT4pFhp5vTKk4eBTwjbb7tf9CWs3kXrUf5ObQqgvdPshptiZIV/hjNJMnGtMJgv+0XMd7aL6x9KslxtOfba6vqfyfZzkmxB2sBGxn+9sQkO1TVp2hd/PtX1XtoJ4dFm+C77Yp+lXMmuaqU9ptpV1leWVV70npqFvXzf+pKeZLNkmyd5CbVShy/iDZ08plJ7ksbevPXCTZ1Uk4B7kWbrHsW7YP3QuCDwC9p1bVuTV+3SVepqpOAI4GbJHlY2tpgX6D1NLwpyc1owRUvcDR9ztUnk9y8b1oP+Hu1qoGfoRXmeWTaxHuqas/FEEr73A6qrZ+zA6365EZV9Q5a7/JLkjy0qi4A3lhVx/XggOHqasPeNqYtIPx14A5JNusXzd5He6/bBNi7qn4Li6u3oYeru9EWP9+zqnanzU9bmzZ9YP+qegTts3Ad2jy/vavqksV0nGZwOa2IzEZpc/+pqifTzrU+CTyr2iLoK3xBi5lY5GIBGrnaslK/AvxjYEPakK7306oFfqeqDu/7r1yLoChBHwp4SVWdk+TBwOEzzadKW/zumcBTq+qYuW7nfJLkUbST3m/SFpJ8flX9oF89/yhtaOnrq+qExTQWHyDJ42lzXQ6uqmf1bRvTCjbcHHgWcL1avGulXUPagsE3pc0BPT7Jy2gXeA4CflJVlyS5RbX1mjSi9/q9gHb8Xtz/HV1VB/f770i7en46rSf14hX99TjyWXdv4IyqOiltgdIXA/erqhPTCvBsRatE+feZ3vMXuyRb0C4QPZvWE/802vy0t9DmW90bOKyqLl9s7/NT0ioofh/4clXt0bc9glYk5W+043cD2hyjwxfjlIKR1+N9aIWKzqXNu3otrejON6fOO7XIr+AvRNPe/Dbt/+9G674+CXgdbbLhS0a+bbF84GwM/DDJvrSKSP82fYd+5Xxt4CmGq9yJNhl1K+Aw2gfuXn0OwwG059XDgdUn18qJ+iOtOMMtk+yV5Ea9F/gjtA+W2xqurpJkO+DDwP2Atyd5clW9izav4+nAg/r7l+FqBr3X7320APVu4Ba0HsDbJ1m373Yg8LGqumgxnAT3k7ltaBd61u3b3g68B/hRkttVK8CzR1WdY7i6piS3BfYE/q+qft97Pb9GKzjwMeC3tCqpl8Pi6bkaGcGxZtpyCMfQPgvvnuR1ANWW2vg68IX+mjuH9vpbzOHqQbSK1I+gFUTZjTaq40JghyQPnGAz5xV7sBaQ0XCVVj70/bS1ZU6izb/6Jm0o0860K6H3qEWwnlPaJMt/9ivmB9ImNm9VVT/sQ5Munrb/oujRm420qoE3pl0R35I27+hptEmq307yEtoY6zuyAl8xT3Ib4B8zBaYeRN9LC6H/UVX/TCsec+EcN3Pe6idxHwGeRAvlr6AVBPlBtXL2L6NdIV/UFzVmo/dkPYtW9OMsWuXTjWhDk7apqjMn2Lw5lbYA7tdpow2O7L0Mq1bVL3tP1ito80N9Lc4gyU2AS2lD2u4GvKmqftDvuyWtd/nyqvrJxBo5ASNhYXvaiISVgE9V1af7Z+J+tGUlXjP9eybU5Hmhn2s9GfhWVX2zfzZ+hfb8OpS2Vtin+7DmRc+AtQAleRJtouq7aNWU1qOFivNpV/J+k+QGfUz6Cq8P+fsa7fd/BG1Ru92Bh1bVsZNs23wy8qGyLnD9qjqhb98D2Kyqnpu2tswbaePQf93vX2tF76lJ8ipaEZSjR4fJjAzDvSPtau/XgHd4pfwqSW5ebW2TOwNrAh8CdqENVX4K8NGq+tAk27gQTLuAtiGtPPudaL3tFydZvaoummgj51iStWmjEf5OC5h3oy1D8qmq+kyS2069j+nq+pD5L9Lmw/yQdvFsNeAbVfXjCTZtXkjycOCttErCL6ENv31FVe3X52PtT3sfO3GxB6spSd5Fq8j8dlqQujDJQ4CXVdUjk6xRznu8kkMEF5i09Qa2AQ6qquNo63u8j1Zq/M60Usir0bprV2gjE5k/QpsA/gXam+HetCEkP0iydpJH96udi1oPDNvSFp3++tQwCNqCkrdLq0r2PuA1VfXr9MnlwD/mvrVzq6reSivk8eMkN+vHKj1crdSHhOwOfN9wdZV+knJ6kvv33qlbA5+pVlHqT8BPgB9NsInz0tTwpFH9OTdV0OGPtOGA5wAfTCvWc8nctnJe+DutAMMtaBdAHgJ8A7h7v/+Pk2nWgvAPWkh4BW2h6nfSzgse7zAuoI3ceA5t/a970nrf35DkZVX1K+AhVXWC4eoqVfUy2rnmg2mVdaFNQble2hIKi+Ki/mxZpn2eG7mSPnV1c1PacJH7JPlF71m4CHhjkmOBX1TVovggnjrRTasg9b0kvwRel+QNVfWOfrLyI9qL/imTbOt8kOQOtIpIO9JO1r6QVsL/w7Req0fSqiz+CGCxjcmvqtOSnEg7Lo+vqjOnhSx7Q0ekFUh5FW3hzTX65vOAT6ctCvtcWu/LbybUxHkpyVr0ixZJnkabLH5OVX22956uXG1R05OSvB24sBZhpcX08v20dYimtt0TeCqtV+vK9yhdpfe+HNt7Fw6mvdfvQ3utvp+2QPMZk2vhZE1NG6iqLya5AfBqWkXAw/t72nPSlt5w2Y0R6UtIVNWrk7wf+HA/59wY+JDDdK/JIYLz2LQhIxtVmwRNkidw1cKm36u2cOeikVbJ7frV1upYjzYE6VH9vjfQrm6+rqqOTnI72oKKi2bewkzSSj+/njbEZvuqOqMfm0/Rhoy8cWTfRTHWfOTixcbAjavql337fsBdacfprMVyPJZHktvTxt7vSus5v3tVvajf93Da8ftVVX1nUm2cj/qcoo/QihFtQFs+4sO0q+eH9t730XCxqKStbXX51PD2qSG6/et70Ia5fbKq/nuCzZyXpoJ5kq/R1kd7VB9augYtYG1Nu+jxv4spmPZhphtW1RE9QD2eVrjpbbR1HV9FW+fql/SCYVV1xKTaO5/0z8YbjkwXuPJ9KcmbaVNU3lJV351gM+cthwjOYyPhak/gP5O8Pcmzq+rztInPjwG26W+gi0KS1WkLKO+WNrH+X8C/+psoVfV62pC3DyS5S1X9YbGHK4BqxU4OoxVE2TmtVPYfaFeDd0hbg2dq30URJkaGTH4JeE2SLyRZr6qeBxwNfCXJ2qNDt3Sls4Ht+lCaS4FVAZI8gFZw5h2Gq2uqqj/RFoHfl7Yg/G5V9X7aotXbJdmn77cowlWSdXuPC/21+G3gS/3kjd57PDWc8lfAC2oRr6szk5FjcWOAqtqWVlb8i7235l+0gjM/Ay5bZOFqVVrBmF2T7EYbqfFp2qLwz6OFzl8Da9EC12cNV+3CRpIb0uam7ZQ2v5aquqwPV6ZaAZBfAc/vF2s1jQFrnkuyK+3Dd0fa8MBdk+xTVZ8Gfkobk75oPmyqTfJ+K20y/a7AFrThDheM7LM3bZzwuZNo43ySqxZapl/1/TJtiOnjktyyz5W5X1X936TaOClpa+vsTat692VagZQ3J7l1D1m/Br7fr6IvmpOS2aiqs+qq4gLHAecmuSvwn8ywPMJilw6gqt4AfJW2nMZmSVarVv7/ccBTk7xmyY+0wtkZeE/vWdiDdvHspbQLh2+HKy+ErFRVV1TVqVPbJtbieaYfn22Aw5K8O8m9qmpXWtGng5O8mNZj+tGq+ulEGzvHqupSWinxvwMPBf6nqr5XVS8BjqDNqz2sql5Mm3N1yGIO7z2QAqzUR0btTxv+/dgkm8E1QtZLae//FraYgUME55mRYUuhdWPvSJvj8Hhge9pE1VfSJo+/HrhRVZ03qfbOldGhIv32hrSu/ZsA/85Vk6FXpn2wPKMWeTGCtOo+G9BWVK+RoTaPpV25O442XOmyxXis+vDSW9KeQ2+iVYzaj/aB8vSq+r+0RbzfWVWHTK6l88v0IZO9B+JHtKvCL6yqbzms8irThno/ibYY+ufTFsh9CO25d0Q/cdmQ9rl80gSbPKeSvJpWuOlU2vIQlya5KfBzWsGdL0y0gfNcklvR3rc+TivYcBPacNNvpVWIvQVwVFV9fYLNnKjew/J0WrGPvavqh337N2lVYX+wmN+z+siNU/vXd6Jd6HhhVZ3dbz+HViDl49WKq7nczSxY5GL+CVDAKtUmDX46yZq0q52PrKpLkjyXtijsv1XVWRNs65wZCQfb0yaI/wF4Oe3k5CJaCP0VbajSmYsxMIzqHyivpg2pubxvSzVf6UPejqtFUhBlJv0D5dQ+HOmzVXVi2jpqz6VVRQqtQtJvJ9nO+aCPxb9BVR0zw0nIMbSrxJ+uqm+BPQyjRsLVC2jFdnbt29+d5AJa78LbkvxvteqBK7zRk9mqekuS82jH5p5Jfl1V5yT5JO31pyVIci/aMi0nVdXXkvyENp9vm7SqbvuPPP8WbYCoqj8k+ShtrtU2PZQeA9weOLPvsyiPTfeBJBtU1d1px+MC4F1pFRV/21+LXwLOT/LeqjrPcLVs9mDNE0nuWlVH96+fT1tR/Bu0YYDH0d4M3k7rin0OsEstjkWER6/+7kw7Bj/sd/8XbWLqW2m9Vgf0oTaLWpJbAwfRShg/aVrP36L9kF2S/rzag/Z62wF4eVX9T79v1T7MZNHqc2PeCJxIW4Po9cDVyhcn+bd+tdPn1wzSFg/+L9oaMhcAj6IVB3kvLVg8gPZaXTTrXCV5EO0YfL+qjutD2R4GfA84gdYr8+TqC+Pq6vrx+xxtePNzgW2r6hv9guwewG2AN1fV6RNs5sTl6oVSbk8LoDsBv6OdMyzmnr3R86sf0S5OPy7JOsBrafP6ngasTxvt8qqyKuysGbDmgd6b8FnakMD/AJ5Pe9O8K61b9gO0q1Rvpl3Re/lUGFss0soZ35EWsC6nFfh4OO1Ffxytt+btVbVoy88C9HlVpyd5Ie1D5KW00v1eCV6CfkLyWGA72hCIb/TtU3NmFu2bZJ+n9kFaINiKVvHuYNpr7Q+TbNt8NlPQTCtt/EDgKK6aN3tBVT1/KqDOdTvn2sgQ+HvRhrQdRwucP66qj/Uhba8Evg4cXH3JCF1dDwp709ac+2aSHWnHc9fek7UmcNNqRVUWnbQCWP8ELu0Xfkar320MPIO2WPXvJ9nO+SJt+YNtgT1pr8Xt0wqHvQW4N22B6pdOfTZqdgxY80Ta2ihvBx4EPLeqvt/nNmxHWyflgN7Nff1ahOsNJPk87SR4o6o6Ncm6tBO+x9F6sH66WE+ER05a7gK8EPhuVX2uz/F4MK1E71GL9fjM1tSHsL0wV1nKPLXr0YafHjPB5s1L064Kbw/cAPgzbY7oo2jzY05OshNtDtZzFtPzLckWtCqKr6iq3/Qe5PsCv+kha0/gyKr62UQbOo8leSbwZOAXwBuq6vw+t/ZLwGNrkZWxT1v+YMeqeleSrWnFGX4A3IVWqfPYaSFrjWrVFRe9JHenXdDYiXax4920eaKP6Pc/CDirXAdyuRmw5pEesg4C1qyq+/Ztd6GtzXAx8KaqunhyLZwb005QblBXrYnyOVolxbv2QLE+7YrwD6vqtMm1ePL6MK6X0eZVXgR8rIesF9OuTL2yLD+7VAarJevz1M6oqvcneTJtSNKTahFWn5ytJC+jBaof0Ia+vWVqjlqS59Cuoj9tsYXUtHXSDqW9J707rSLZDrQLZr+sqo9MtIELQB/1sgtwT9ow+S9W1QW9J+v8qjpsog2cY0luQytD/ynaZ+BXq+rHfd7jq4AH+l41s7Tqr3tU1XNGtv0W+EtVPXxiDVsBWKZ9Hqmqv9OqBZ6ctgI7fbzrp4D3L8JwtSfw9iTvSrJ6Ve1Cm4t2RN/vFOAgw1VuThtWs0dV3Q/4IvCgJI+vqvfS1r/SMhiuluoY4DE9NDybNlzEE5YRU0NK+9e3BDavqgcDl9CGK30nyRp9juTGLMJwBVBV36YFqqcn2aX3KhwMfJ9WjVJL0XtiLqddjD0G2Iy2LuQaVXVwVR02+lxc0fXjcTJwL1op9i2B09Kq3H2ANvdxtwk2cd6Z9vxYGdgyyaYj2z4B/HuSzee0YSsYA9YEzPTmNzLf43zaCcwFSb7Tt/22Fk+1wKlw9Vxa2HwbbVLqx5NsWFW70cpBT30QO7eoncCtxFXrD/1n//9FSR5VVW+390rX0aG0D9370CbO/89kmzP/jLx33Ya2Nt9laVUp7w88pp8Ub0M7oXnVYgxXU6ote/By4GVJnlJtjavPOQxpZkk2TbIVXLkO0co9mP4XrSDIXWjDeOn7LIqLRf1C62VpC+GeQ5tSsTKtOMpUlbvTaNMsFrUkN0vyxD4qqEbOOY+izf3/fpLHJHkCrcf9wVV15CTbvNAZsObYtB6ajfvY4au9IVbVP4AXAH/qcyAWlT5B9+60RSgfRyu/fhlwQA9Z29EWX140HyRLU1Xn0sbePyTJnapVvfsKbaHlndLK9UrXWrWyvJ8EnlCtUtmiuUK+PNKWR3gDsA6tStkmtLWcLkkr1LMPcHEt8sqUAFV1KO1YvTLJrZJ4PjJi6jWWVhDkJcALkzwQoKouz1XrEO1PKzpz6uRaOxk9KGwLfBrYtKr+QpurvUOSLyR5BvBMrqo8vCj159JWtOD0+D6Xv/pQU6rq/bS1r7ainVt9tCxidJ05B2tCkryC1kNzU9pCdx+dYZ9FOyckyfWAOwDvq6oH9zeIM2kfJq/3BOXqehDfg7bQ5C9pC1Q/iVZq9XVV9esJNk8riMX8njQbadXd3korCPJX4Hm0YUu/os0X3clemqtLsk5VnTnpdsxHSbYB3kPrPb4n7aLZwVNzrLLIF3vt84c+ATy+2sLw69Pmq18C/IT2GnxRtbWcFv17V1rhq01oI4C+VFUXjxb/6PtY7GkgLjQ8R6b1XK0GbERb+2RT4KC0tRquNrl3MT+5+wv/AmCV3v1/G9r6KP9huLqmapUV30mrxrUZLWDdANiA9iEjXWeL+T1paZLctqpOqKrj+9DuD9OuBr+JVqFrdeCtVfXnSbZzPjJczawX/3go8Opqi8PfFng08LQkF1TVjxdzuOouBo6mjd6Yqsq5Eq1ndBvgNlX1W/C9K8kjaEMoixayrpfkoKq6cDSoT4WtxX68hmAP1hyYoXDDHWkB6ylVdUYfAvAJWin290yupfNL78V6Ea1b+1a0q1THTbRRC0SSB9OupO9h75U0Pkn+HXgFbTTC7rRSx8+nLR3xvUm2TQtbkvfQ1sDcuaquSCup/SHgSGC/qjp+og2csCQ3BJ4KPBF4F3AsLWRdWFWfmFzL5pckN6Otrbp7tUW9nw3cCfgf4Cu1iBY4n0uOeZ4DI+HqQbTSqv9H+xB+cdrCsD+njRPeNa1Uu2i9WLThEU8HHm64Wi6/p82XMVxJA5pWLXAV2lyr59GKDbwTeA1t/bnHTKJ9WphG5lxtnGSzvvk9tKJOr+y3L6QVc1iXdpF2Uauqf1bVh4Atq+rLwJq0JSROmWzL5p1LaSPW1u63/5N2/v8y4InOfxwPe7DmSO++fhGwb1V9q09WfRStCt5+fYjX6l5JkKT5aQmjEc6jva9f2HsYNqQt1rkycA/gTIfbaDZ6wYY3AifSwtTbaGHqacCtaSfIj6IVgLqoqt45oabOK71Yw11pQ3PfUotsoeXZSPISWjXFL/c5aY+gVazea7H3hI6LAWtMZphzdTPgm8D/VtUeffv9aT1aZ9LeVKuqLDsuSfNYX0biCbShSb8EvksLWcf3+28LXNCrmknLlOTewAdpAWor4CPAZ4H3VtUfktyFdq5wO+AA4NFWertKkjWAm1XVHy3QcE29ENazgS2AI2jztJ9XVd+daMNWYAasMZgWrp4HrFVVb+4l2b9BW3V9n37/fYATq+qMSbVXkjQ7fRmJ9wCvo1WCfSRt3aub0dZ2+t1oVS5pNvoJ8C1p61m9iRbe96MVSHluVR3bg/u+tF6a306ssVqQktyItpbhnYCjqurwCTdphWbAGqMke9DmD+1YVaf0bbcEDgF+WFUvn2T7JEnLbynLSHyYthDzxRNtoBasJG8Gzqiq9yd5Mm1O0ZOnequSrFlV5020kZKWyTLtY9IXd90G2Bu4IMlzaGsUfQPYHjg4ydpVddYEmylJWk5LWUbiY4YrXUfHAHskWRXYAXhpHyK4UlVdYbiSFgZ7sMYoye7Ac2gVbY7t/29WVXskWdX1nCRpYXIZCY1DH4L6WNqaRR+vqm9MuEmSrgUD1hglWR24M22O1TlJdqZNMnwUbQK0B1+SFqjey3AL4IqqOm3S7dGKI8kqVXWZBRukhcmANQf6GgNPo13t3MXJqZIkaUkMVtLC5hysubE6bb2rnarqd5NujCRJmr8MV9LCZg/WHPFqlCRJkrTiM2BJkiRJ0kBWmnQDJEmSJGlFYcCSJEmSpIEYsCRJkiRpIAYsSZIkSRqIAUuSNOeSXJ7k6CS/TvLLJPcd4DH/eR2//4dJjhy5vXmSH17XdkmSFhcDliRpEi6sqrtW1WbAq4C3zuUPTzPTZ+DNkmwzl22RJK1YDFiSpElbEzgXrgw+70zy2yTHJHlC375fku36119J8vH+9dOTvHn6AyZ5eZIjkvwmyRv6tg2SHJ/kU8BvgfVnaMs7gdfM8HgbJPlx7227ssctyZZJDk/y30lOSvK2JLsm+UVv/8Z9v3WSfKm36Ygk9xvguEmS5qFVJt0ASdKidP0kRwOrA7cEHtK37wDcFdgMWBs4IsmPgB8DDwAOAdbt30PfdtDoAyd5OLAJsAUQ4JAkDwT+3Lc/pap+toR2/RR4bJIHA+ePbD8D2KqqLkqyCfA5YPN+32bAHYFzgJOAj1XVFkleCDwfeBHwfuC9VfWTJLcGDuvfI0lawRiwJEmTcGFV3RUgyX2ATyW5E3B/4HNVdTnwtySHA/ekBawXJdkUOA64SZJbAvcBXjDtsR/e//2q374hLVj9GTh5KeFqypuA1wKvHNm2KvChJHcFLgduN3LfEVV1ev9dTgS+3bcfAzy4f/0wYNMkU9+zZpIbVtV1mjcmSZp/DFiSpImqqp8mWRtYZyn7nJZkLWBr4EfATYGdgH9W1fnTdg/w1qr66NU2JhsA/5pFe76f5E3AvUc2vxj4G623aiXgopH7Lh75+oqR21dw1efsSsC9q2r0+yRJKyDnYEmSJirJHYCVgbNpPVVPSLJyknWABwK/6Lv+jDbcbmrI4Mv6/9MdBjw9yQ3746+b5GbL2aw3Aa8YuX1j4PSqugJ4Um/v8vg2bbggvU13Xc7vlyQtEPZgSZImYWoOFrQep6dU1eVJvkIb9vdroIBXVNVf+34/Bh5eVSckOZnWi3WNgFVV305yR+CnfUjeP4HdaEP7ZqWqDk1y5simDwNfSvJk4FvMoidsmhcA+yX5De2z90fAs5fzMSRJC0CqatJtkCRJkqQVgkMEJUmSJGkgBixJkiRJGogBS5IkSZIGYsCSJEmSpIEYsCRJkiRpIAYsSZIkSRqIAUuSJEmSBvL/23xro9sabbcAAAAASUVORK5CYII=\n",
       "datasetInfos": [],
       "metadata": {},
       "removedWidgets": [],
       "type": "image"
      }
     },
     "output_type": "display_data"
    }
   ],
   "source": [
    "# Assuming 'economical_bowlers_powerplay' is already executed and available as a Spark DataFrame\n",
    "economical_bowlers_pd = economical_bowlers_powerplay.toPandas()\n",
    "\n",
    "# Visualizing using Matplotlib\n",
    "plt.figure(figsize=(12, 8))\n",
    "# Limiting to top 10 for clarity in the plot\n",
    "top_economical_bowlers = economical_bowlers_pd.nsmallest(10, 'avg_runs_per_ball')\n",
    "plt.bar(top_economical_bowlers['player_name'], top_economical_bowlers['avg_runs_per_ball'], color='skyblue')\n",
    "plt.xlabel('Bowler Name')\n",
    "plt.ylabel('Average Runs per Ball')\n",
    "plt.title('Most Economical Bowlers in Powerplay Overs (Top 10)')\n",
    "plt.xticks(rotation=45)\n",
    "plt.tight_layout()\n",
    "plt.show()"
   ]
  },
  {
   "cell_type": "code",
   "execution_count": 0,
   "metadata": {
    "application/vnd.databricks.v1+cell": {
     "cellMetadata": {
      "byteLimit": 2048000,
      "rowLimit": 10000
     },
     "inputWidgets": {},
     "nuid": "a1bc5844-8b5c-456e-a832-7d20d119236b",
     "showTitle": false,
     "title": ""
    }
   },
   "outputs": [],
   "source": [
    "import seaborn as sns\n",
    "     "
   ]
  },
  {
   "cell_type": "code",
   "execution_count": 0,
   "metadata": {
    "application/vnd.databricks.v1+cell": {
     "cellMetadata": {
      "byteLimit": 2048000,
      "rowLimit": 10000
     },
     "inputWidgets": {},
     "nuid": "87fbb3e1-bf74-4b3c-8f80-0a3bd2a5fecd",
     "showTitle": false,
     "title": ""
    }
   },
   "outputs": [
    {
     "output_type": "display_data",
     "data": {
      "image/png": "[encoded data removed]"
     },
     "metadata": {
      "application/vnd.databricks.v1+output": {
       "addedWidgets": {},
       "arguments": {},
       "data": "data:image/png;base64,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\n",
       "datasetInfos": [],
       "metadata": {},
       "removedWidgets": [],
       "type": "image"
      }
     },
     "output_type": "display_data"
    }
   ],
   "source": [
    "toss_impact_pd = toss_impact_individual_matches.toPandas()\n",
    "\n",
    "# Creating a countplot to show win/loss after winning toss\n",
    "plt.figure(figsize=(10, 6))\n",
    "sns.countplot(x='toss_winner', hue='match_outcome', data=toss_impact_pd)\n",
    "plt.title('Impact of Winning Toss on Match Outcomes')\n",
    "plt.xlabel('Toss Winner')\n",
    "plt.ylabel('Number of Matches')\n",
    "plt.legend(title='Match Outcome')\n",
    "plt.xticks(rotation=45)\n",
    "plt.tight_layout()\n",
    "plt.show()"
   ]
  },
  {
   "cell_type": "code",
   "execution_count": 0,
   "metadata": {
    "application/vnd.databricks.v1+cell": {
     "cellMetadata": {
      "byteLimit": 2048000,
      "rowLimit": 10000
     },
     "inputWidgets": {},
     "nuid": "9435b3f7-53b6-4fd1-94d1-2ec56fb6f875",
     "showTitle": false,
     "title": ""
    }
   },
   "outputs": [],
   "source": [
    "# Execute SQL Query\n",
    "scores_by_venue = spark.sql(\"\"\"\n",
    "SELECT venue_name, AVG(total_runs) AS average_score, MAX(total_runs) AS highest_score\n",
    "FROM (\n",
    "    SELECT ball_by_ball.match_id, match.venue_name, SUM(runs_scored) AS total_runs\n",
    "    FROM ball_by_ball\n",
    "    JOIN match ON ball_by_ball.match_id = match.match_id\n",
    "    GROUP BY ball_by_ball.match_id, match.venue_name\n",
    ")\n",
    "GROUP BY venue_name\n",
    "ORDER BY average_score DESC\n",
    "\"\"\")\n"
   ]
  },
  {
   "cell_type": "code",
   "execution_count": 0,
   "metadata": {
    "application/vnd.databricks.v1+cell": {
     "cellMetadata": {
      "byteLimit": 2048000,
      "rowLimit": 10000
     },
     "inputWidgets": {},
     "nuid": "dbf39434-ee9c-4f69-878d-6eb4a744b5ec",
     "showTitle": false,
     "title": ""
    }
   },
   "outputs": [],
   "source": [
    "# Execute SQL Query\n",
    "dismissal_types = spark.sql(\"\"\"\n",
    "SELECT out_type, COUNT(*) AS frequency\n",
    "FROM ball_by_ball\n",
    "WHERE out_type IS NOT NULL\n",
    "GROUP BY out_type\n",
    "ORDER BY frequency DESC\n",
    "\"\"\")"
   ]
  },
  {
   "cell_type": "code",
   "execution_count": 0,
   "metadata": {
    "application/vnd.databricks.v1+cell": {
     "cellMetadata": {
      "byteLimit": 2048000,
      "rowLimit": 10000
     },
     "inputWidgets": {},
     "nuid": "4dbe3097-b81f-496c-9368-1425e38d1daf",
     "showTitle": false,
     "title": ""
    }
   },
   "outputs": [
    {
     "output_type": "display_data",
     "data": {
      "image/png": "[encoded data removed]"
     },
     "metadata": {
      "application/vnd.databricks.v1+output": {
       "addedWidgets": {},
       "arguments": {},
       "data": "data:image/png;base64,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\n",
       "datasetInfos": [],
       "metadata": {},
       "removedWidgets": [],
       "type": "image"
      }
     },
     "output_type": "display_data"
    }
   ],
   "source": [
    "# Convert to Pandas DataFrame\n",
    "dismissal_types_pd = dismissal_types.toPandas()\n",
    "\n",
    "# Plot\n",
    "plt.figure(figsize=(12, 6))\n",
    "sns.barplot(x='frequency', y='out_type', data=dismissal_types_pd, palette='pastel')\n",
    "plt.title('Most Frequent Dismissal Types')\n",
    "plt.xlabel('Frequency')\n",
    "plt.ylabel('Dismissal Type')\n",
    "plt.show()"
   ]
  }
 ],
 "metadata": {
  "application/vnd.databricks.v1+notebook": {
   "dashboards": [],
   "environmentMetadata": null,
   "language": "python",
   "notebookMetadata": {
    "pythonIndentUnit": 4
   },
   "notebookName": "IPL_DATA_ANLYSIS_SPARK",
   "widgets": {}
  }
 },
 "nbformat": 4,
 "nbformat_minor": 0
}
